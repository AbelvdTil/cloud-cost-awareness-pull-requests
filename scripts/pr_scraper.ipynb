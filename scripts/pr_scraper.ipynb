{
 "cells": [
  {
   "cell_type": "markdown",
   "id": "45e03a43-7920-4679-a955-ed3118ef1201",
   "metadata": {},
   "source": [
    "# Pull request scraper"
   ]
  },
  {
   "cell_type": "markdown",
   "id": "2a05420a-77b4-4d26-acdd-b6ca46d0f239",
   "metadata": {},
   "source": [
    "## GitHub credentials\n",
    "A private access token is necessary to make use of less restrictive API limits."
   ]
  },
  {
   "cell_type": "code",
   "execution_count": 1,
   "id": "18030255-77ee-4ed0-b11b-b2824e704349",
   "metadata": {},
   "outputs": [
    {
     "name": "stderr",
     "output_type": "stream",
     "text": [
      "Request GET /user failed with 403: Forbidden\n",
      "Setting next backoff to 82.925177s\n"
     ]
    },
    {
     "name": "stdout",
     "output_type": "stream",
     "text": [
      "Authenticated as: AbelvdTil\n"
     ]
    }
   ],
   "source": [
    "from github import RateLimitExceededException, Github\n",
    "\n",
    "# Providing access token\n",
    "access_token = \"\"\n",
    "g = Github(login_or_token=access_token)\n",
    "\n",
    "# Confirm your login is successful\n",
    "user = g.get_user()\n",
    "print(f\"Authenticated as: {user.login}\")"
   ]
  },
  {
   "cell_type": "markdown",
   "id": "09550648-f771-420c-bfbc-d3cd7bceec95",
   "metadata": {},
   "source": [
    "## Files"
   ]
  },
  {
   "cell_type": "code",
   "execution_count": 3,
   "id": "f5be4139-d47b-42f1-b4a6-eee6d6de92a3",
   "metadata": {},
   "outputs": [],
   "source": [
    "import os\n",
    " \n",
    "STEP4_TFCOMMITS = os.path.join(\"data\", \"previous-study\", \"step4-tf-commits.json\") \n",
    "COMMIT_LABELS = os.path.join(\"data\", \"process-labeled-commits\", \"full-commit-labels.json\") \n",
    "\n",
    "STEP5_TF_REPOS_WITH_PR = os.path.join(\"data\", \"pullrequest-scraping\", \"step5-tf-repos-with-pr.json\")\n",
    "STEP6_TF_REPOS_COMMITS = os.path.join(\"data\", \"pullrequest-scraping\", \"step6-tf-repos-commits.json\")\n",
    "STEP6A_TF_REPOS_RELEVANT_COMMITS = os.path.join(\"data\", \"pullrequest-scraping\", \"step6a-tf-repos-relevant-commits.json\")\n",
    "STEP7_TF_REPOS_WITH_TF_PR = os.path.join(\"data\", \"pullrequest-scraping\", \"step7-tf-repos-with-tf-pr.json\")\n",
    "STEP8_TF_KEYWORD_PR = os.path.join(\"data\", \"pullrequest-scraping\", \"step8-tf-keyword-pr.json\")\n",
    "STEP9_TF_PR_DATASET = os.path.join(\"data\", \"pullrequest-scraping\", \"step9-tf-pr-dataset.json\")"
   ]
  },
  {
   "cell_type": "markdown",
   "id": "3b1dc4f3-4c41-422a-af1a-817915c2fb00",
   "metadata": {},
   "source": [
    "## File seperator and combinator\n",
    "\n",
    "Files over 100MB are not stored on GitHub, therefore we need to seperate large files into smaller ones.\n",
    "Any step5 and step7 files can be split into multiple smaller ones and be combined together."
   ]
  },
  {
   "cell_type": "markdown",
   "id": "54a8300a-3f1f-4b55-9c2f-319d2213d816",
   "metadata": {},
   "source": [
    "The repositories are split on pull request level. The first pull request is stored in part 1, the 2nd in part 2 etc. This will make sure that it is fairly equally distributed.\n",
    "\n",
    "Each pull request is accomodated with the url of the repository. Therefore it is possible to reconstruct the original file again."
   ]
  },
  {
   "cell_type": "code",
   "execution_count": 4,
   "id": "93d27ae3-61d8-444e-99e5-bfffe7e66185",
   "metadata": {},
   "outputs": [],
   "source": [
    "import json\n",
    "import math\n",
    "\n",
    "FILE_TO_SEPERATE = STEP5_TF_REPOS_WITH_PR\n",
    "\n",
    "nr_parts = 10"
   ]
  },
  {
   "cell_type": "markdown",
   "id": "aae8c9fe-a182-4600-bd3c-6e3fee8607a0",
   "metadata": {
    "jp-MarkdownHeadingCollapsed": true
   },
   "source": [
    "### File seperator"
   ]
  },
  {
   "cell_type": "code",
   "execution_count": 46,
   "id": "ac6757a0-cacc-4792-87d7-3ade5ff857f8",
   "metadata": {},
   "outputs": [],
   "source": [
    "parts_data = []\n",
    "\n",
    "for i in range(nr_parts):\n",
    "    parts_data.append([])\n",
    "\n",
    "file = open(FILE_TO_SEPERATE)\n",
    "seperator_data = json.load(file)\n",
    "\n",
    "count = 0\n",
    "for repository in seperator_data:\n",
    "    for pull_request in repository[\"pull_requests\"]:\n",
    "        part = (count % nr_parts)\n",
    "        count += 1\n",
    "        parts_data[part].append({\"repo_url\": repository[\"url\"], \"pull_request\": pull_request})\n",
    "\n",
    "for i in range(nr_parts):\n",
    "    with open(FILE_TO_SEPERATE.split(\".\")[0] + \"-part-\" + str(i+1) + \".json\", \"w\") as outfile:\n",
    "        json.dump(parts_data[i], outfile)"
   ]
  },
  {
   "cell_type": "markdown",
   "id": "98739107-471c-4478-960c-5baae19446b0",
   "metadata": {},
   "source": [
    "### File combinator"
   ]
  },
  {
   "cell_type": "code",
   "execution_count": 5,
   "id": "8823ce5d-8c0f-4d9a-9c59-f4f62c8f69aa",
   "metadata": {},
   "outputs": [],
   "source": [
    "url_dict = {}\n",
    "combinator_data = []\n",
    "index_count = 0\n",
    "for part in range(nr_parts):\n",
    "    part_file = open(FILE_TO_SEPERATE.split(\".\")[0] + \"-part-\" + str(part+1) + \".json\", \"r\")\n",
    "    part_data = json.load(part_file)\n",
    "\n",
    "    for nugget in part_data:\n",
    "        # find repo using url\n",
    "        index = url_dict.get(nugget[\"repo_url\"], None)\n",
    "\n",
    "        if (index == None):\n",
    "            repo = {\"url\": nugget[\"repo_url\"], \"pull_requests\": []}\n",
    "            combinator_data.append(repo)\n",
    "            \n",
    "            url_dict[nugget[\"repo_url\"]] = index_count\n",
    "            index_count += 1\n",
    "        else:\n",
    "            repo = combinator_data[index]\n",
    "            \n",
    "        repo[\"pull_requests\"].append(nugget[\"pull_request\"])\n",
    "\n",
    "with open(FILE_TO_SEPERATE, \"w\") as outfile:\n",
    "    json.dump(combinator_data, outfile) "
   ]
  },
  {
   "cell_type": "markdown",
   "id": "96031760-e0b7-4b4e-99ab-b75d1ad3ee10",
   "metadata": {},
   "source": [
    "## STEP 5: Pull request scraping script\n",
    "\n",
    "For each repository, get all pull request data. This includes PR Title, description, (review) comments and commit hashes. Exclude any repositories that do not have pull requests."
   ]
  },
  {
   "cell_type": "code",
   "execution_count": 33,
   "id": "2c2238b0-5a3e-46b4-b660-acf29d789133",
   "metadata": {},
   "outputs": [
    {
     "name": "stdout",
     "output_type": "stream",
     "text": [
      "['nice...', \"I think we'll need to ignore the replica count on the deployment, as this is something the pod autoscaler will adjust. E.g:\\r\\n\\r\\n```\\r\\nlifecycle {\\r\\n  ignore_changes = [spec.0.replicas]\\r\\n}\\r\\n```\\r\\n\\r\\nUnfortunately that probably means we'd have to either always enable the autoscaler, or create a separate version/copy of the deployment which has the ignore_changes. Keen for feedback on this!\", \"I'm thinking I'll just always enable autoscaling and set the default min/max pods to 1/1 - this should make it the same as the existing behaviour.\", 'Not sure I understand, are we not just turning on autoscaling for ambassador? I think it would feel cleaner to have it enabled with min/max set to 1/5.\\r\\n\\r\\nYes will probably have to add the ignore replicas (like kinesis-autoscaler?)', \"`ignore_changes` can't be set dynamically in terraform, so it's not very easy to get the `autoscaling_enable` var to work without creating a whole separate deployment with the `ignore_changes` directive in it. I was originally hoping to be able to make this change in a way that was backwards compatible, but I think it'll be a lot easier if I just enable autoscaling by default.\\r\\n\\r\\nHave added another commit which does the above, and also sets the default min/max pods to 3 and 6 respectively (that way we'll be able to get one per availability zone).\", \"I've removed the replica_count parameter - this won't be useful anymore. Will also squash this all into a single commit before I merge.\"]\n"
     ]
    }
   ],
   "source": [
    "repo_url = \"https://github.com/sailthru/terraform-kubernetes-ambassador.git\"\n",
    "\n",
    "\n",
    "# Get the repo object from the url\n",
    "split_list = repo_url.split(\"/\")\n",
    "actual_url = (split_list[3]+ '/' + split_list[4]).split('.git')[0]\n",
    "repo = g.get_repo(actual_url)\n",
    "\n",
    "\n",
    "pr = repo.get_pull(7)\n",
    "\n",
    "# Get required info for pull requests\n",
    "pull_requests_dict = []\n",
    "\n",
    "\n",
    "# retrieve all review comments, not required if there are none.\n",
    "comments = []\n",
    "\n",
    "for review in pr.get_reviews():\n",
    "    if (review.body.strip() != \"\"):\n",
    "        comments.append(review.body)\n",
    "\n",
    "for review_comment in pr.get_review_comments():\n",
    "    if (review_comment.body.strip() != \"\"):\n",
    "        comments.append(review_comment.body)\n",
    "\n",
    "for comment in pr.get_issue_comments():\n",
    "    if (comment.body.strip() != \"\"):\n",
    "        comments.append(comment.body)\n",
    "\n",
    "print(comments)\n",
    "\n"
   ]
  },
  {
   "cell_type": "code",
   "execution_count": 8,
   "id": "2405cedc-5871-4de2-8ebc-5988dcf5b1f7",
   "metadata": {},
   "outputs": [
    {
     "name": "stdout",
     "output_type": "stream",
     "text": [
      "exception: 404 {\"message\": \"Not Found\", \"documentation_url\": \"https://docs.github.com/rest/repos/repos#get-a-repository\"}\n",
      "exception: 404 {\"message\": \"Not Found\", \"documentation_url\": \"https://docs.github.com/rest/repos/repos#get-a-repository\"}\n",
      "exception: 404 {\"message\": \"Not Found\", \"documentation_url\": \"https://docs.github.com/rest/repos/repos#get-a-repository\"}\n",
      "exception: 404 {\"message\": \"Not Found\", \"documentation_url\": \"https://docs.github.com/rest/repos/repos#get-a-repository\"}\n",
      "exception: 404 {\"message\": \"Not Found\", \"documentation_url\": \"https://docs.github.com/rest/repos/repos#get-a-repository\"}\n",
      "exception: 404 {\"message\": \"Not Found\", \"documentation_url\": \"https://docs.github.com/rest/repos/repos#get-a-repository\"}\n",
      "exception: 404 {\"message\": \"Not Found\", \"documentation_url\": \"https://docs.github.com/rest/repos/repos#get-a-repository\"}\n",
      "exception: 404 {\"message\": \"Not Found\", \"documentation_url\": \"https://docs.github.com/rest/repos/repos#get-a-repository\"}\n",
      "exception: 404 {\"message\": \"Not Found\", \"documentation_url\": \"https://docs.github.com/rest/repos/repos#get-a-repository\"}\n",
      "exception: 404 {\"message\": \"Not Found\", \"documentation_url\": \"https://docs.github.com/rest/repos/repos#get-a-repository\"}\n",
      "exception: 404 {\"message\": \"Not Found\", \"documentation_url\": \"https://docs.github.com/rest/repos/repos#get-a-repository\"}\n",
      "exception: 404 {\"message\": \"Not Found\", \"documentation_url\": \"https://docs.github.com/rest\"}\n",
      "exception: 404 {\"message\": \"Not Found\", \"documentation_url\": \"https://docs.github.com/rest/repos/repos#get-a-repository\"}\n",
      "exception: 404 {\"message\": \"Not Found\", \"documentation_url\": \"https://docs.github.com/rest\"}\n",
      "exception: 404 {\"message\": \"Not Found\", \"documentation_url\": \"https://docs.github.com/rest/repos/repos#get-a-repository\"}\n",
      "exception: 404 {\"message\": \"Not Found\", \"documentation_url\": \"https://docs.github.com/rest/repos/repos#get-a-repository\"}\n",
      "exception: 404 {\"message\": \"Not Found\", \"documentation_url\": \"https://docs.github.com/rest/repos/repos#get-a-repository\"}\n",
      "exception: 404 {\"message\": \"Not Found\", \"documentation_url\": \"https://docs.github.com/rest/repos/repos#get-a-repository\"}\n",
      "exception: 404 {\"message\": \"Not Found\", \"documentation_url\": \"https://docs.github.com/rest/repos/repos#get-a-repository\"}\n",
      "exception: 404 {\"message\": \"Not Found\", \"documentation_url\": \"https://docs.github.com/rest/repos/repos#get-a-repository\"}\n",
      "exception: 404 {\"message\": \"Not Found\", \"documentation_url\": \"https://docs.github.com/rest/repos/repos#get-a-repository\"}\n",
      "exception: 404 {\"message\": \"Not Found\", \"documentation_url\": \"https://docs.github.com/rest/repos/repos#get-a-repository\"}\n",
      "exception: 404 {\"message\": \"Not Found\", \"documentation_url\": \"https://docs.github.com/rest/repos/repos#get-a-repository\"}\n",
      "exception: 404 {\"message\": \"Not Found\", \"documentation_url\": \"https://docs.github.com/rest/repos/repos#get-a-repository\"}\n",
      "exception: 404 {\"message\": \"Not Found\", \"documentation_url\": \"https://docs.github.com/rest/repos/repos#get-a-repository\"}\n",
      "exception: 404 {\"message\": \"Not Found\", \"documentation_url\": \"https://docs.github.com/rest/repos/repos#get-a-repository\"}\n",
      "exception: 404 {\"message\": \"Not Found\", \"documentation_url\": \"https://docs.github.com/rest/repos/repos#get-a-repository\"}\n",
      "exception: 404 {\"message\": \"Not Found\", \"documentation_url\": \"https://docs.github.com/rest\"}\n",
      "20:48:21 : current iteration: 387 url: https://github.com/GaloyMoney/charts.git\n",
      "20:54:20 : current iteration: 387 url: https://github.com/GaloyMoney/charts.git\n",
      "21:00:21 : current iteration: 387 url: https://github.com/GaloyMoney/charts.git\n",
      "21:06:21 : current iteration: 387 url: https://github.com/GaloyMoney/charts.git\n",
      "21:12:22 : current iteration: 387 url: https://github.com/GaloyMoney/charts.git\n",
      "21:18:25 : current iteration: 387 url: https://github.com/GaloyMoney/charts.git\n",
      "21:24:30 : current iteration: 387 url: https://github.com/GaloyMoney/charts.git\n",
      "21:30:48 : current iteration: 387 url: https://github.com/GaloyMoney/charts.git\n",
      "21:37:07 : current iteration: 387 url: https://github.com/GaloyMoney/charts.git\n",
      "21:43:28 : current iteration: 387 url: https://github.com/GaloyMoney/charts.git\n",
      "21:49:47 : current iteration: 387 url: https://github.com/GaloyMoney/charts.git\n",
      "Rate limit exceeded, sleeping for 25.26750874519348 seconds. Actual remaining calls 9\n",
      "21:56:29 : current iteration: 387 url: https://github.com/GaloyMoney/charts.git\n",
      "22:02:47 : current iteration: 387 url: https://github.com/GaloyMoney/charts.git\n",
      "22:09:07 : current iteration: 387 url: https://github.com/GaloyMoney/charts.git\n",
      "22:15:33 : current iteration: 398 url: https://github.com/nce/k8s-hard-way.git\n",
      "exception: 404 {\"message\": \"Not Found\", \"documentation_url\": \"https://docs.github.com/rest/repos/repos#get-a-repository\"}\n",
      "22:22:07 : current iteration: 418 url: https://github.com/moov-io/infra.git\n",
      "22:28:33 : current iteration: 425 url: https://github.com/ministryofjustice/github-collaborators.git\n",
      "22:34:58 : current iteration: 425 url: https://github.com/ministryofjustice/github-collaborators.git\n",
      "22:41:28 : current iteration: 425 url: https://github.com/ministryofjustice/github-collaborators.git\n"
     ]
    },
    {
     "name": "stderr",
     "output_type": "stream",
     "text": [
      "Following Github server redirection from /repos/GlueOps/terraform-gcp-organization-bootstrap to /repositories/479564327\n"
     ]
    },
    {
     "name": "stdout",
     "output_type": "stream",
     "text": [
      "22:47:54 : current iteration: 428 url: https://github.com/GlueOps/terraform-gcp-organization-bootstrap.git\n",
      "22:54:20 : current iteration: 440 url: https://github.com/terraform-google-modules/terraform-example-foundation.git\n",
      "23:00:41 : current iteration: 440 url: https://github.com/terraform-google-modules/terraform-example-foundation.git\n",
      "23:07:09 : current iteration: 449 url: https://github.com/UKHomeOffice/dq-tf-infra.git\n",
      "23:13:33 : current iteration: 456 url: https://github.com/UKHomeOffice/dq-tf-apps.git\n",
      "exception: 404 {\"message\": \"Not Found\", \"documentation_url\": \"https://docs.github.com/rest/repos/repos#get-a-repository\"}\n",
      "23:20:01 : current iteration: 474 url: https://github.com/alphagov/tech-ops.git\n",
      "23:26:17 : current iteration: 479 url: https://github.com/gpii-ops/gpii-infra.git\n",
      "23:32:30 : current iteration: 479 url: https://github.com/gpii-ops/gpii-infra.git\n",
      "exception: 404 {\"message\": \"Not Found\", \"documentation_url\": \"https://docs.github.com/rest/repos/repos#get-a-repository\"}\n",
      "exception: 404 {\"message\": \"Not Found\", \"documentation_url\": \"https://docs.github.com/rest/repos/repos#get-a-repository\"}\n",
      "exception: 404 {\"message\": \"Not Found\", \"documentation_url\": \"https://docs.github.com/rest/repos/repos#get-a-repository\"}\n",
      "23:38:58 : current iteration: 492 url: https://github.com/18F/dns.git\n",
      "23:45:14 : current iteration: 501 url: https://github.com/recognizegroup/terraform.git\n",
      "23:51:31 : current iteration: 510 url: https://github.com/mesoform/terraform-infrastructure-modules.git\n",
      "Rate limit exceeded, sleeping for 20.250806093215942 seconds. Actual remaining calls 6\n",
      "23:58:06 : current iteration: 514 url: https://github.com/lsst/idf_deploy.git\n",
      "exception: 404 {\"message\": \"Not Found\", \"documentation_url\": \"https://docs.github.com/rest/repos/repos#get-a-repository\"}\n",
      "00:04:22 : current iteration: 516 url: https://github.com/wellcomecollection/platform-infrastructure.git\n",
      "exception: 404 {\"message\": \"Not Found\", \"documentation_url\": \"https://docs.github.com/rest/repos/repos#get-a-repository\"}\n"
     ]
    },
    {
     "name": "stderr",
     "output_type": "stream",
     "text": [
      "Following Github server redirection from /repos/rajesh-nitc/gcp-foundation to /repositories/367584349\n"
     ]
    },
    {
     "name": "stdout",
     "output_type": "stream",
     "text": [
      "00:10:53 : current iteration: 531 url: https://github.com/datarootsio/terraform-module-azure-datalake.git\n",
      "00:17:16 : current iteration: 534 url: https://github.com/ministryofjustice/hmpps-env-configs.git\n",
      "00:23:31 : current iteration: 534 url: https://github.com/ministryofjustice/hmpps-env-configs.git\n",
      "00:29:44 : current iteration: 534 url: https://github.com/ministryofjustice/hmpps-env-configs.git\n",
      "00:35:57 : current iteration: 534 url: https://github.com/ministryofjustice/hmpps-env-configs.git\n",
      "exception: 404 {\"message\": \"Not Found\", \"documentation_url\": \"https://docs.github.com/rest/repos/repos#get-a-repository\"}\n",
      "00:42:20 : current iteration: 544 url: https://github.com/hmcts/azure-platform-terraform.git\n",
      "00:48:38 : current iteration: 544 url: https://github.com/hmcts/azure-platform-terraform.git\n",
      "00:54:56 : current iteration: 544 url: https://github.com/hmcts/azure-platform-terraform.git\n",
      "01:01:06 : current iteration: 544 url: https://github.com/hmcts/azure-platform-terraform.git\n",
      "01:07:14 : current iteration: 544 url: https://github.com/hmcts/azure-platform-terraform.git\n"
     ]
    },
    {
     "name": "stderr",
     "output_type": "stream",
     "text": [
      "Following Github server redirection from /repos/ryanlg/ryhino-public to /repositories/421638252\n"
     ]
    },
    {
     "name": "stdout",
     "output_type": "stream",
     "text": [
      "01:13:34 : current iteration: 549 url: https://github.com/aztfmod/terraform-azurerm-caf.git\n",
      "01:19:52 : current iteration: 549 url: https://github.com/aztfmod/terraform-azurerm-caf.git\n",
      "exception: 404 {\"message\": \"Not Found\", \"documentation_url\": \"https://docs.github.com/rest/repos/repos#get-a-repository\"}\n",
      "01:26:17 : current iteration: 559 url: https://github.com/cloudposse/terraform-spacelift-cloud-infrastructure-automation.git\n",
      "01:32:33 : current iteration: 562 url: https://github.com/mattermost/mattermost-cloud-monitoring.git\n",
      "01:38:55 : current iteration: 562 url: https://github.com/mattermost/mattermost-cloud-monitoring.git\n"
     ]
    },
    {
     "name": "stderr",
     "output_type": "stream",
     "text": [
      "Following Github server redirection from /repos/basisai/terraform-modules-gcp to /repositories/167327420\n"
     ]
    },
    {
     "name": "stdout",
     "output_type": "stream",
     "text": [
      "01:45:24 : current iteration: 576 url: https://github.com/kinvolk-archives/lokomotive-kubernetes.git\n",
      "01:51:47 : current iteration: 586 url: https://github.com/dwp/dataworks-github-config.git\n",
      "Rate limit exceeded, sleeping for 3.3338563442230225 seconds. Actual remaining calls 9\n",
      "01:57:59 : current iteration: 589 url: https://github.com/ministryofjustice/cloud-platform-environments.git\n",
      "02:04:13 : current iteration: 589 url: https://github.com/ministryofjustice/cloud-platform-environments.git\n",
      "02:10:26 : current iteration: 589 url: https://github.com/ministryofjustice/cloud-platform-environments.git\n",
      "02:16:39 : current iteration: 589 url: https://github.com/ministryofjustice/cloud-platform-environments.git\n",
      "02:22:52 : current iteration: 589 url: https://github.com/ministryofjustice/cloud-platform-environments.git\n",
      "02:29:07 : current iteration: 589 url: https://github.com/ministryofjustice/cloud-platform-environments.git\n",
      "02:35:21 : current iteration: 589 url: https://github.com/ministryofjustice/cloud-platform-environments.git\n",
      "02:41:45 : current iteration: 589 url: https://github.com/ministryofjustice/cloud-platform-environments.git\n",
      "02:47:57 : current iteration: 589 url: https://github.com/ministryofjustice/cloud-platform-environments.git\n",
      "02:54:08 : current iteration: 589 url: https://github.com/ministryofjustice/cloud-platform-environments.git\n",
      "03:00:18 : current iteration: 589 url: https://github.com/ministryofjustice/cloud-platform-environments.git\n",
      "03:06:32 : current iteration: 589 url: https://github.com/ministryofjustice/cloud-platform-environments.git\n",
      "03:12:45 : current iteration: 589 url: https://github.com/ministryofjustice/cloud-platform-environments.git\n",
      "03:18:56 : current iteration: 589 url: https://github.com/ministryofjustice/cloud-platform-environments.git\n",
      "03:25:09 : current iteration: 589 url: https://github.com/ministryofjustice/cloud-platform-environments.git\n",
      "03:31:21 : current iteration: 589 url: https://github.com/ministryofjustice/cloud-platform-environments.git\n",
      "03:37:34 : current iteration: 589 url: https://github.com/ministryofjustice/cloud-platform-environments.git\n",
      "03:43:48 : current iteration: 589 url: https://github.com/ministryofjustice/cloud-platform-environments.git\n",
      "03:49:58 : current iteration: 589 url: https://github.com/ministryofjustice/cloud-platform-environments.git\n",
      "Rate limit exceeded, sleeping for 1.1255011558532715 seconds. Actual remaining calls 7\n",
      "03:56:10 : current iteration: 589 url: https://github.com/ministryofjustice/cloud-platform-environments.git\n",
      "04:02:21 : current iteration: 589 url: https://github.com/ministryofjustice/cloud-platform-environments.git\n",
      "04:08:35 : current iteration: 589 url: https://github.com/ministryofjustice/cloud-platform-environments.git\n",
      "04:14:46 : current iteration: 589 url: https://github.com/ministryofjustice/cloud-platform-environments.git\n",
      "04:20:58 : current iteration: 589 url: https://github.com/ministryofjustice/cloud-platform-environments.git\n",
      "04:27:10 : current iteration: 589 url: https://github.com/ministryofjustice/cloud-platform-environments.git\n",
      "04:33:23 : current iteration: 589 url: https://github.com/ministryofjustice/cloud-platform-environments.git\n",
      "04:39:32 : current iteration: 589 url: https://github.com/ministryofjustice/cloud-platform-environments.git\n",
      "04:45:44 : current iteration: 589 url: https://github.com/ministryofjustice/cloud-platform-environments.git\n",
      "04:51:53 : current iteration: 589 url: https://github.com/ministryofjustice/cloud-platform-environments.git\n",
      "Rate limit exceeded, sleeping for 9.704654693603516 seconds. Actual remaining calls 10\n",
      "04:58:18 : current iteration: 589 url: https://github.com/ministryofjustice/cloud-platform-environments.git\n",
      "05:04:32 : current iteration: 589 url: https://github.com/ministryofjustice/cloud-platform-environments.git\n",
      "05:10:48 : current iteration: 589 url: https://github.com/ministryofjustice/cloud-platform-environments.git\n",
      "05:17:02 : current iteration: 589 url: https://github.com/ministryofjustice/cloud-platform-environments.git\n",
      "05:23:20 : current iteration: 589 url: https://github.com/ministryofjustice/cloud-platform-environments.git\n",
      "05:29:34 : current iteration: 589 url: https://github.com/ministryofjustice/cloud-platform-environments.git\n",
      "05:35:50 : current iteration: 589 url: https://github.com/ministryofjustice/cloud-platform-environments.git\n",
      "05:42:06 : current iteration: 589 url: https://github.com/ministryofjustice/cloud-platform-environments.git\n",
      "05:48:22 : current iteration: 589 url: https://github.com/ministryofjustice/cloud-platform-environments.git\n",
      "05:54:35 : current iteration: 589 url: https://github.com/ministryofjustice/cloud-platform-environments.git\n",
      "06:00:50 : current iteration: 589 url: https://github.com/ministryofjustice/cloud-platform-environments.git\n",
      "06:07:08 : current iteration: 589 url: https://github.com/ministryofjustice/cloud-platform-environments.git\n",
      "06:13:26 : current iteration: 589 url: https://github.com/ministryofjustice/cloud-platform-environments.git\n",
      "06:19:42 : current iteration: 589 url: https://github.com/ministryofjustice/cloud-platform-environments.git\n",
      "06:25:58 : current iteration: 589 url: https://github.com/ministryofjustice/cloud-platform-environments.git\n",
      "06:32:21 : current iteration: 589 url: https://github.com/ministryofjustice/cloud-platform-environments.git\n",
      "06:38:36 : current iteration: 589 url: https://github.com/ministryofjustice/cloud-platform-environments.git\n",
      "06:44:51 : current iteration: 589 url: https://github.com/ministryofjustice/cloud-platform-environments.git\n",
      "exception: 404 {\"message\": \"Not Found\", \"documentation_url\": \"https://docs.github.com/rest/repos/repos#get-a-repository\"}\n"
     ]
    },
    {
     "name": "stderr",
     "output_type": "stream",
     "text": [
      "Following Github server redirection from /repos/Lemax-Dev/infrastructure-repo to /repositories/230511040\n"
     ]
    },
    {
     "name": "stdout",
     "output_type": "stream",
     "text": [
      "06:51:17 : current iteration: 596 url: https://github.com/alphagov/govwifi-terraform.git\n",
      "06:57:39 : current iteration: 596 url: https://github.com/alphagov/govwifi-terraform.git\n",
      "exception: 404 {\"message\": \"Not Found\", \"documentation_url\": \"https://docs.github.com/rest/repos/repos#get-a-repository\"}\n",
      "exception: 404 {\"message\": \"Not Found\", \"documentation_url\": \"https://docs.github.com/rest/repos/repos#get-a-repository\"}\n"
     ]
    },
    {
     "name": "stderr",
     "output_type": "stream",
     "text": [
      "Following Github server redirection from /repos/globeandmail/aws-dynamodb to /repositories/231636188\n",
      "Following Github server redirection from /repos/ibm-hcbt/acct-config-iam to /repositories/302706624\n"
     ]
    },
    {
     "name": "stdout",
     "output_type": "stream",
     "text": [
      "exception: 404 {\"message\": \"Not Found\", \"documentation_url\": \"https://docs.github.com/rest/repos/repos#get-a-repository\"}\n",
      "07:04:26 : current iteration: 630 url: https://github.com/fluent-labs/infrastructure.git\n"
     ]
    },
    {
     "name": "stderr",
     "output_type": "stream",
     "text": [
      "Following Github server redirection from /repos/pastis-hosting/net.pastis-hosting.k8s to /repositories/434807874\n"
     ]
    },
    {
     "name": "stdout",
     "output_type": "stream",
     "text": [
      "exception: 404 {\"message\": \"Not Found\", \"documentation_url\": \"https://docs.github.com/rest/repos/repos#get-a-repository\"}\n",
      "exception: 404 {\"message\": \"Not Found\", \"documentation_url\": \"https://docs.github.com/rest/repos/repos#get-a-repository\"}\n",
      "exception: 404 {\"message\": \"Not Found\", \"documentation_url\": \"https://docs.github.com/rest/repos/repos#get-a-repository\"}\n",
      "07:10:52 : current iteration: 638 url: https://github.com/nationalarchives/tdr-terraform-backend.git\n",
      "07:17:08 : current iteration: 640 url: https://github.com/nationalarchives/tdr-terraform-environments.git\n",
      "exception: 404 {\"message\": \"Not Found\", \"documentation_url\": \"https://docs.github.com/rest/repos/repos#get-a-repository\"}\n",
      "exception: 404 {\"message\": \"Not Found\", \"documentation_url\": \"https://docs.github.com/rest/repos/repos#get-a-repository\"}\n"
     ]
    },
    {
     "name": "stderr",
     "output_type": "stream",
     "text": [
      "Following Github server redirection from /repos/matthewbentley/blog-terraform to /repositories/113337906\n",
      "Following Github server redirection from /repos/palogitjl/terragoat2 to /repositories/441027419\n"
     ]
    },
    {
     "name": "stdout",
     "output_type": "stream",
     "text": [
      "exception: 404 {\"message\": \"Not Found\", \"documentation_url\": \"https://docs.github.com/rest/repos/repos#get-a-repository\"}\n",
      "07:23:56 : current iteration: 676 url: https://github.com/ministryofjustice/cloud-platform-terraform-concourse.git\n"
     ]
    },
    {
     "name": "stderr",
     "output_type": "stream",
     "text": [
      "Following Github server redirection from /repos/pagopa/userregistry-devops to /repositories/429011484\n"
     ]
    },
    {
     "name": "stdout",
     "output_type": "stream",
     "text": [
      "07:30:35 : current iteration: 684 url: https://github.com/mdn/infra.git\n",
      "exception: 404 {\"message\": \"Not Found\", \"documentation_url\": \"https://docs.github.com/rest/repos/repos#get-a-repository\"}\n",
      "exception: 404 {\"message\": \"Not Found\", \"documentation_url\": \"https://docs.github.com/rest/repos/repos#get-a-repository\"}\n",
      "exception: 404 {\"message\": \"Not Found\", \"documentation_url\": \"https://docs.github.com/rest/repos/repos#get-a-repository\"}\n"
     ]
    },
    {
     "name": "stderr",
     "output_type": "stream",
     "text": [
      "Following Github server redirection from /repos/terraform-alicloud-modules/terraform-alicloud-ecp to /repositories/465308959\n"
     ]
    },
    {
     "name": "stdout",
     "output_type": "stream",
     "text": [
      "07:37:15 : current iteration: 698 url: https://github.com/nationalarchives/tdr-jenkins.git\n",
      "exception: 404 {\"message\": \"Not Found\", \"documentation_url\": \"https://docs.github.com/rest/repos/repos#get-a-repository\"}\n",
      "exception: 404 {\"message\": \"Not Found\", \"documentation_url\": \"https://docs.github.com/rest/repos/repos#get-a-repository\"}\n",
      "exception: 404 {\"message\": \"Not Found\", \"documentation_url\": \"https://docs.github.com/rest/repos/repos#get-a-repository\"}\n",
      "07:43:45 : current iteration: 706 url: https://github.com/binbashar/le-tf-infra-aws.git\n",
      "exception: 404 {\"message\": \"Not Found\", \"documentation_url\": \"https://docs.github.com/rest/repos/repos#get-a-repository\"}\n",
      "07:50:24 : current iteration: 711 url: https://github.com/PaloAltoNetworks/terraform-aws-vmseries-modules.git\n",
      "07:57:04 : current iteration: 722 url: https://github.com/chris-qa-org/terraform-aws-organzation-and-sso.git\n"
     ]
    },
    {
     "name": "stderr",
     "output_type": "stream",
     "text": [
      "Following Github server redirection from /repos/monish-advani/terragoat-test to /repositories/304530642\n"
     ]
    },
    {
     "name": "stdout",
     "output_type": "stream",
     "text": [
      "exception: 404 {\"message\": \"Not Found\", \"documentation_url\": \"https://docs.github.com/rest/repos/repos#get-a-repository\"}\n",
      "08:03:45 : current iteration: 740 url: https://github.com/jenkins-x/terraform-aws-eks-jx.git\n",
      "08:10:37 : current iteration: 743 url: https://github.com/bridgecrewio/terragoat.git\n",
      "08:17:10 : current iteration: 744 url: https://github.com/Civil-Service-Human-Resources/lpg-terraform-paas.git\n",
      "exception: 404 {\"message\": \"Not Found\", \"documentation_url\": \"https://docs.github.com/rest/repos/repos#get-a-repository\"}\n",
      "exception: 404 {\"message\": \"Not Found\", \"documentation_url\": \"https://docs.github.com/rest/repos/repos#get-a-repository\"}\n",
      "08:23:39 : current iteration: 755 url: https://github.com/langri-sha/langri-sha.com.git\n",
      "08:30:02 : current iteration: 758 url: https://github.com/commitdev/zero-aws-eks-stack.git\n",
      "exception: 404 {\"message\": \"Not Found\", \"documentation_url\": \"https://docs.github.com/rest/repos/repos#get-a-repository\"}\n",
      "08:36:28 : current iteration: 763 url: https://github.com/asfadmin/CIRRUS-core.git\n",
      "08:42:59 : current iteration: 768 url: https://github.com/john-hurringjr/vpc-sc-org.git\n",
      "08:49:35 : current iteration: 774 url: https://github.com/ministryofjustice/staff-device-dns-dhcp-infrastructure.git\n",
      "08:56:12 : current iteration: 775 url: https://github.com/dfds/infrastructure-modules.git\n",
      "09:02:47 : current iteration: 775 url: https://github.com/dfds/infrastructure-modules.git\n",
      "09:09:21 : current iteration: 775 url: https://github.com/dfds/infrastructure-modules.git\n"
     ]
    },
    {
     "name": "stderr",
     "output_type": "stream",
     "text": [
      "Following Github server redirection from /repos/Quansight/qhub to /repositories/252841745\n"
     ]
    },
    {
     "name": "stdout",
     "output_type": "stream",
     "text": [
      "09:15:53 : current iteration: 776 url: https://github.com/Quansight/qhub.git\n",
      "09:22:22 : current iteration: 776 url: https://github.com/Quansight/qhub.git\n"
     ]
    },
    {
     "name": "stderr",
     "output_type": "stream",
     "text": [
      "Following Github server redirection from /repos/OmniTeqSource/terraform-aws-iam to /repositories/358685228\n"
     ]
    },
    {
     "name": "stdout",
     "output_type": "stream",
     "text": [
      "09:29:02 : current iteration: 782 url: https://github.com/cloudposse/terraform-aws-s3-bucket.git\n",
      "exception: 404 {\"message\": \"Not Found\", \"documentation_url\": \"https://docs.github.com/rest\"}\n",
      "exception: 404 {\"message\": \"Not Found\", \"documentation_url\": \"https://docs.github.com/rest/repos/repos#get-a-repository\"}\n",
      "09:35:49 : current iteration: 796 url: https://github.com/terraform-google-modules/terraform-google-log-export.git\n",
      "09:42:38 : current iteration: 816 url: https://github.com/dwp/aws-analytical-env.git\n",
      "09:49:09 : current iteration: 816 url: https://github.com/dwp/aws-analytical-env.git\n",
      "exception: 404 {\"message\": \"Not Found\", \"documentation_url\": \"https://docs.github.com/rest/repos/repos#get-a-repository\"}\n"
     ]
    },
    {
     "name": "stderr",
     "output_type": "stream",
     "text": [
      "Following Github server redirection from /repos/traveloka/terraform-aws-common-iam-roles to /repositories/128900479\n"
     ]
    },
    {
     "name": "stdout",
     "output_type": "stream",
     "text": [
      "exception: 404 {\"message\": \"Not Found\", \"documentation_url\": \"https://docs.github.com/rest/repos/repos#get-a-repository\"}\n",
      "09:56:04 : current iteration: 844 url: https://github.com/Young-ook/terraform-aws-spinnaker.git\n",
      "exception: 404 {\"message\": \"Not Found\", \"documentation_url\": \"https://docs.github.com/rest/repos/repos#get-a-repository\"}\n",
      "10:02:46 : current iteration: 862 url: https://github.com/alphagov/verify-infrastructure.git\n",
      "10:09:16 : current iteration: 862 url: https://github.com/alphagov/verify-infrastructure.git\n",
      "10:15:38 : current iteration: 864 url: https://github.com/GoogleCloudPlatform/cloud-foundation-fabric.git\n",
      "10:22:00 : current iteration: 864 url: https://github.com/GoogleCloudPlatform/cloud-foundation-fabric.git\n",
      "10:28:25 : current iteration: 864 url: https://github.com/GoogleCloudPlatform/cloud-foundation-fabric.git\n",
      "10:34:46 : current iteration: 864 url: https://github.com/GoogleCloudPlatform/cloud-foundation-fabric.git\n",
      "10:41:08 : current iteration: 864 url: https://github.com/GoogleCloudPlatform/cloud-foundation-fabric.git\n",
      "10:47:46 : current iteration: 874 url: https://github.com/ministryofjustice/modernisation-platform-environments.git\n",
      "10:54:19 : current iteration: 874 url: https://github.com/ministryofjustice/modernisation-platform-environments.git\n",
      "11:00:52 : current iteration: 874 url: https://github.com/ministryofjustice/modernisation-platform-environments.git\n",
      "11:07:28 : current iteration: 874 url: https://github.com/ministryofjustice/modernisation-platform-environments.git\n",
      "11:14:04 : current iteration: 874 url: https://github.com/ministryofjustice/modernisation-platform-environments.git\n",
      "11:20:39 : current iteration: 874 url: https://github.com/ministryofjustice/modernisation-platform-environments.git\n",
      "11:27:14 : current iteration: 874 url: https://github.com/ministryofjustice/modernisation-platform-environments.git\n",
      "11:33:48 : current iteration: 874 url: https://github.com/ministryofjustice/modernisation-platform-environments.git\n",
      "11:40:24 : current iteration: 874 url: https://github.com/ministryofjustice/modernisation-platform-environments.git\n",
      "11:46:56 : current iteration: 874 url: https://github.com/ministryofjustice/modernisation-platform-environments.git\n",
      "11:53:33 : current iteration: 874 url: https://github.com/ministryofjustice/modernisation-platform-environments.git\n",
      "12:00:10 : current iteration: 874 url: https://github.com/ministryofjustice/modernisation-platform-environments.git\n"
     ]
    },
    {
     "name": "stderr",
     "output_type": "stream",
     "text": [
      "Following Github server redirection from /repos/ckilpatrick20/github-actions to /repositories/265605083\n"
     ]
    },
    {
     "name": "stdout",
     "output_type": "stream",
     "text": [
      "12:06:48 : current iteration: 877 url: https://github.com/wellcometrust/terraform-modules.git\n",
      "12:13:13 : current iteration: 881 url: https://github.com/minamijoyo/tfupdate-circleci-example.git\n",
      "exception: 404 {\"message\": \"Not Found\", \"documentation_url\": \"https://docs.github.com/rest/repos/repos#get-a-repository\"}\n"
     ]
    },
    {
     "name": "stderr",
     "output_type": "stream",
     "text": [
      "Following Github server redirection from /repos/GSA/datagov-brokerpak-eks to /repositories/305896342\n"
     ]
    },
    {
     "name": "stdout",
     "output_type": "stream",
     "text": [
      "12:19:49 : current iteration: 901 url: https://github.com/roberthstrand/demo-github-terraform.git\n",
      "exception: 404 {\"message\": \"Not Found\", \"documentation_url\": \"https://docs.github.com/rest/repos/repos#get-a-repository\"}\n"
     ]
    },
    {
     "name": "stderr",
     "output_type": "stream",
     "text": [
      "Following Github server redirection from /repos/palogitjl/terragoat1 to /repositories/441021321\n"
     ]
    },
    {
     "name": "stdout",
     "output_type": "stream",
     "text": [
      "exception: 404 {\"message\": \"Not Found\", \"documentation_url\": \"https://docs.github.com/rest/repos/repos#get-a-repository\"}\n",
      "12:26:30 : current iteration: 916 url: https://github.com/segmentio/stack.git\n",
      "12:33:11 : current iteration: 928 url: https://github.com/cloudposse/terraform-aws-eks-node-group.git\n",
      "12:39:58 : current iteration: 940 url: https://github.com/cloudposse/terraform-aws-ecs-alb-service-task.git\n",
      "exception: 404 {\"message\": \"Not Found\", \"documentation_url\": \"https://docs.github.com/rest/repos/repos#get-a-repository\"}\n",
      "exception: 404 {\"message\": \"Not Found\", \"documentation_url\": \"https://docs.github.com/rest/repos/repos#get-a-repository\"}\n",
      "12:46:58 : current iteration: 965 url: https://github.com/maddevsio/aws-eks-base.git\n",
      "12:53:37 : current iteration: 974 url: https://github.com/ministryofjustice/analytics-platform-ops.git\n",
      "13:00:04 : current iteration: 979 url: https://github.com/john-hurringjr/test-environment.git\n"
     ]
    },
    {
     "name": "stderr",
     "output_type": "stream",
     "text": [
      "Following Github server redirection from /repos/bphanbc/terragoat to /repositories/477081171\n"
     ]
    },
    {
     "name": "stdout",
     "output_type": "stream",
     "text": [
      "13:06:51 : current iteration: 999 url: https://github.com/cds-snc/cloud-based-sensor.git\n",
      "13:13:26 : current iteration: 1009 url: https://github.com/liatrio/lead-terraform.git\n",
      "exception: 404 {\"message\": \"Not Found\", \"documentation_url\": \"https://docs.github.com/rest/repos/repos#get-a-repository\"}\n",
      "13:20:06 : current iteration: 1014 url: https://github.com/devopsacademyau/academy.git\n",
      "13:26:35 : current iteration: 1014 url: https://github.com/devopsacademyau/academy.git\n",
      "13:32:53 : current iteration: 1014 url: https://github.com/devopsacademyau/academy.git\n",
      "13:39:15 : current iteration: 1014 url: https://github.com/devopsacademyau/academy.git\n",
      "13:45:38 : current iteration: 1014 url: https://github.com/devopsacademyau/academy.git\n",
      "exception: 404 {\"message\": \"Not Found\", \"documentation_url\": \"https://docs.github.com/rest/repos/repos#get-a-repository\"}\n",
      "13:52:14 : current iteration: 1026 url: https://github.com/broadinstitute/terraform-ap-modules.git\n",
      "exception: 404 {\"message\": \"Not Found\", \"documentation_url\": \"https://docs.github.com/rest/repos/repos#get-a-repository\"}\n",
      "exception: 404 {\"message\": \"Not Found\", \"documentation_url\": \"https://docs.github.com/rest/repos/repos#get-a-repository\"}\n",
      "13:59:01 : current iteration: 1040 url: https://github.com/SUSE/ha-sap-terraform-deployments.git\n",
      "14:05:35 : current iteration: 1040 url: https://github.com/SUSE/ha-sap-terraform-deployments.git\n",
      "14:12:08 : current iteration: 1043 url: https://github.com/uyuni-project/sumaform.git\n",
      "14:18:39 : current iteration: 1043 url: https://github.com/uyuni-project/sumaform.git\n",
      "14:25:11 : current iteration: 1043 url: https://github.com/uyuni-project/sumaform.git\n",
      "exception: 404 {\"message\": \"Not Found\", \"documentation_url\": \"https://docs.github.com/rest/repos/repos#get-a-repository\"}\n",
      "exception: 404 {\"message\": \"Not Found\", \"documentation_url\": \"https://docs.github.com/rest/repos/repos#get-a-repository\"}\n",
      "exception: 404 {\"message\": \"Not Found\", \"documentation_url\": \"https://docs.github.com/rest\"}\n",
      "exception: 404 {\"message\": \"Not Found\", \"documentation_url\": \"https://docs.github.com/rest/repos/repos#get-a-repository\"}\n",
      "exception: 404 {\"message\": \"Not Found\", \"documentation_url\": \"https://docs.github.com/rest/repos/repos#get-a-repository\"}\n",
      "14:31:55 : current iteration: 1065 url: https://github.com/ministryofjustice/delius-versions.git\n",
      "14:38:27 : current iteration: 1066 url: https://github.com/pagopa/gitops.git\n",
      "14:45:09 : current iteration: 1078 url: https://github.com/cisagov/cool-assessment-terraform.git\n",
      "14:51:52 : current iteration: 1091 url: https://github.com/cloud-gov/cg-provision.git\n",
      "14:58:20 : current iteration: 1091 url: https://github.com/cloud-gov/cg-provision.git\n",
      "15:04:50 : current iteration: 1091 url: https://github.com/cloud-gov/cg-provision.git\n",
      "15:11:23 : current iteration: 1097 url: https://github.com/alphagov/govuk-infrastructure.git\n",
      "15:17:50 : current iteration: 1097 url: https://github.com/alphagov/govuk-infrastructure.git\n",
      "15:24:16 : current iteration: 1097 url: https://github.com/alphagov/govuk-infrastructure.git\n",
      "15:30:45 : current iteration: 1101 url: https://github.com/slalom/dataops-infra.git\n",
      "exception: 404 {\"message\": \"Not Found\", \"documentation_url\": \"https://docs.github.com/rest/repos/repos#get-a-repository\"}\n",
      "exception: 404 {\"message\": \"Not Found\", \"documentation_url\": \"https://docs.github.com/rest/repos/repos#get-a-repository\"}\n",
      "15:37:31 : current iteration: 1119 url: https://github.com/claranet/terraform-signalfx-integrations.git\n",
      "15:43:59 : current iteration: 1121 url: https://github.com/poseidon/typhoon.git\n",
      "15:50:30 : current iteration: 1121 url: https://github.com/poseidon/typhoon.git\n",
      "exception: 404 {\"message\": \"Not Found\", \"documentation_url\": \"https://docs.github.com/rest/repos/repos#get-a-repository\"}\n",
      "exception: 404 {\"message\": \"Not Found\", \"documentation_url\": \"https://docs.github.com/rest/repos/repos#get-a-repository\"}\n",
      "exception: 404 {\"message\": \"Not Found\", \"documentation_url\": \"https://docs.github.com/rest/repos/repos#get-a-repository\"}\n",
      "15:57:26 : current iteration: 1147 url: https://github.com/pagopa/azurerm.git\n",
      "16:03:54 : current iteration: 1149 url: https://github.com/ironpeakservices/infrastructure.git\n",
      "16:10:30 : current iteration: 1154 url: https://github.com/ministryofjustice/aws-root-account.git\n",
      "16:17:00 : current iteration: 1157 url: https://github.com/cisagov/freeipa-server-tf-module.git\n",
      "exception: 404 {\"message\": \"Not Found\", \"documentation_url\": \"https://docs.github.com/rest\"}\n",
      "exception: 404 {\"message\": \"Not Found\", \"documentation_url\": \"https://docs.github.com/rest/repos/repos#get-a-repository\"}\n",
      "exception: 404 {\"message\": \"Not Found\", \"documentation_url\": \"https://docs.github.com/rest/repos/repos#get-a-repository\"}\n",
      "16:24:01 : current iteration: 1188 url: https://github.com/EtchUK/Etch.OrchardCore.SiteBoilerplate.git\n",
      "exception: 404 {\"message\": \"Not Found\", \"documentation_url\": \"https://docs.github.com/rest/repos/repos#get-a-repository\"}\n",
      "16:30:55 : current iteration: 1211 url: https://github.com/mozilla/terraform-modules.git\n",
      "exception: 404 {\"message\": \"Not Found\", \"documentation_url\": \"https://docs.github.com/rest/repos/repos#get-a-repository\"}\n",
      "16:37:32 : current iteration: 1224 url: https://github.com/oracle-terraform-modules/terraform-oci-oke.git\n",
      "16:43:59 : current iteration: 1224 url: https://github.com/oracle-terraform-modules/terraform-oci-oke.git\n",
      "exception: 404 {\"message\": \"Not Found\", \"documentation_url\": \"https://docs.github.com/rest/repos/repos#get-a-repository\"}\n",
      "exception: 404 {\"message\": \"Not Found\", \"documentation_url\": \"https://docs.github.com/rest/repos/repos#get-a-repository\"}\n",
      "16:50:41 : current iteration: 1238 url: https://github.com/GoogleCloudPlatform/terraform-google-secure-cicd.git\n"
     ]
    },
    {
     "name": "stderr",
     "output_type": "stream",
     "text": [
      "Following Github server redirection from /repos/dgorbov/terraform-s3-backend-setup to /repositories/230207730\n"
     ]
    },
    {
     "name": "stdout",
     "output_type": "stream",
     "text": [
      "exception: 404 {\"message\": \"Not Found\", \"documentation_url\": \"https://docs.github.com/rest/repos/repos#get-a-repository\"}\n",
      "16:57:24 : current iteration: 1253 url: https://github.com/plus3it/terraform-aws-tardigrade-s3-bucket.git\n",
      "17:03:58 : current iteration: 1256 url: https://github.com/ExpediaDotCom/haystack.git\n",
      "17:10:29 : current iteration: 1259 url: https://github.com/jonpulsifer/terraform-modules.git\n",
      "exception: 404 {\"message\": \"Not Found\", \"documentation_url\": \"https://docs.github.com/rest/repos/repos#get-a-repository\"}\n"
     ]
    }
   ],
   "source": [
    "# SETTINGS\n",
    "check_limit_every_x_calls = 5\n",
    "api_limit_buffer = 10\n",
    "api_calls_per_debug = 500\n",
    "\n",
    "# INITIALIZATION\n",
    "\n",
    "import json\n",
    "import datetime\n",
    "import time\n",
    "import os\n",
    "\n",
    "# INITIALIZATION\n",
    "terraform_output = open(STEP4_TFCOMMITS)\n",
    "step4_output = json.load(terraform_output)\n",
    "\n",
    "# Retrieve data from previous run\n",
    "try:\n",
    "    previous_run = open(os.path.join(\"data\", \"pullrequest-scraping\", \"missing-review-comments.json\"))\n",
    "    repoData_dict = json.load(previous_run)\n",
    "except FileNotFoundError as e:\n",
    "    repoData_dict = []\n",
    "\n",
    "iteration = 0\n",
    "calls_till_next_debug = 0\n",
    "calls_till_limit_checkup = 0\n",
    "\n",
    "# Check for api limits, also periodically calls print debug.\n",
    "def CheckForApiLimit():\n",
    "    global calls_till_limit_checkup\n",
    "    global calls_till_next_debug\n",
    "    global api_calls_per_debug\n",
    "    global api_limit_buffer\n",
    "\n",
    "    # check for limit\n",
    "    if (calls_till_limit_checkup == 0):\n",
    "        core_limit = g.get_rate_limit().core\n",
    "\n",
    "        # sleep when exceeded api core limit\n",
    "        if (core_limit.remaining <= api_limit_buffer):\n",
    "            time_to_sleep = core_limit.raw_data['reset'] - time.time() + 1\n",
    "            print(\"Rate limit exceeded, sleeping for\", time_to_sleep, \"seconds.\", \"Actual remaining calls\", core_limit.remaining)\n",
    "            time.sleep(time_to_sleep)\n",
    "\n",
    "        calls_till_limit_checkup = check_limit_every_x_calls\n",
    "    \n",
    "    calls_till_limit_checkup -= 1\n",
    "\n",
    "    # check for debug\n",
    "    if (calls_till_next_debug == 0):\n",
    "        PrintDebug()\n",
    "        calls_till_next_debug = api_calls_per_debug\n",
    "\n",
    "    calls_till_next_debug -= 1\n",
    "\n",
    "# Prints debug message\n",
    "def PrintDebug():\n",
    "    global iteration\n",
    "    global repo_url\n",
    "\n",
    "    print(datetime.datetime.now().strftime(\"%H:%M:%S\"), \":\", \n",
    "              \"current iteration:\", iteration, \n",
    "              \"url:\", repo_url)\n",
    "\n",
    "# Pull request scraping script\n",
    "for rp in step4_output[\"repositories\"]:\n",
    "    try:\n",
    "        iteration += 1\n",
    "            \n",
    "        repo_url = rp[\"name\"]\n",
    "\n",
    "        # skip already scraped repositories\n",
    "        if any(d[\"url\"] == repo_url for d in repoData_dict):\n",
    "            continue\n",
    "\n",
    "        # Get the repo object from the url\n",
    "        split_list = repo_url.split(\"/\")\n",
    "        actual_url = (split_list[3]+ '/' + split_list[4]).split('.git')[0]\n",
    "        repo = g.get_repo(actual_url)\n",
    "        \n",
    "        # Get required info for pull requests\n",
    "        pull_requests_dict = []\n",
    "        pull_requests = repo.get_pulls(state=\"closed\")\n",
    "\n",
    "        for pr in pull_requests:\n",
    "\n",
    "            # retrieve all review comments, not required if there are none.\n",
    "            comments = []\n",
    "\n",
    "            if (pr.review_comments > 0):\n",
    "                for review_comment in pr.get_review_comments():\n",
    "                    if (review_comment.body.strip() != \"\"):\n",
    "                        comments.append(review_comment.body)\n",
    "                CheckForApiLimit()\n",
    "\n",
    "            if (comments != []):\n",
    "                pull_requests_dict.append({\"url\": pr.html_url, \"comments\": comments})\n",
    "        \n",
    "            CheckForApiLimit()        \n",
    "        repoData_dict.append({\"url\": repo_url, \"pull_requests\": pull_requests_dict});\n",
    "\n",
    "        with open( os.path.join(\"data\", \"pullrequest-scraping\", \"missing-review-comments.json\") , \"w\") as outfile:\n",
    "            json.dump(repoData_dict, outfile)\n",
    "    except Exception as e:\n",
    "        print(\"exception:\", e)"
   ]
  },
  {
   "cell_type": "code",
   "execution_count": 7,
   "id": "492cb012-8537-42cb-8c58-3d9d45b21aa3",
   "metadata": {},
   "outputs": [
    {
     "name": "stdout",
     "output_type": "stream",
     "text": [
      "exception: 404 {\"message\": \"Not Found\", \"documentation_url\": \"https://docs.github.com/rest/repos/repos#get-a-repository\"}\n",
      "exception: 404 {\"message\": \"Not Found\", \"documentation_url\": \"https://docs.github.com/rest/repos/repos#get-a-repository\"}\n",
      "exception: 404 {\"message\": \"Not Found\", \"documentation_url\": \"https://docs.github.com/rest/repos/repos#get-a-repository\"}\n",
      "exception: 404 {\"message\": \"Not Found\", \"documentation_url\": \"https://docs.github.com/rest/repos/repos#get-a-repository\"}\n",
      "exception: 404 {\"message\": \"Not Found\", \"documentation_url\": \"https://docs.github.com/rest/repos/repos#get-a-repository\"}\n",
      "exception: 404 {\"message\": \"Not Found\", \"documentation_url\": \"https://docs.github.com/rest/repos/repos#get-a-repository\"}\n",
      "exception: 404 {\"message\": \"Not Found\", \"documentation_url\": \"https://docs.github.com/rest/repos/repos#get-a-repository\"}\n",
      "exception: 404 {\"message\": \"Not Found\", \"documentation_url\": \"https://docs.github.com/rest/repos/repos#get-a-repository\"}\n",
      "exception: 404 {\"message\": \"Not Found\", \"documentation_url\": \"https://docs.github.com/rest/repos/repos#get-a-repository\"}\n",
      "exception: 404 {\"message\": \"Not Found\", \"documentation_url\": \"https://docs.github.com/rest/repos/repos#get-a-repository\"}\n",
      "exception: 404 {\"message\": \"Not Found\", \"documentation_url\": \"https://docs.github.com/rest/repos/repos#get-a-repository\"}\n",
      "exception: 404 {\"message\": \"Not Found\", \"documentation_url\": \"https://docs.github.com/rest\"}\n",
      "exception: 404 {\"message\": \"Not Found\", \"documentation_url\": \"https://docs.github.com/rest/repos/repos#get-a-repository\"}\n"
     ]
    },
    {
     "name": "stderr",
     "output_type": "stream",
     "text": [
      "Following Github server redirection from /repos/andreas-prinz/gcp-terraform-google-lb to /repositories/425986937\n"
     ]
    },
    {
     "name": "stdout",
     "output_type": "stream",
     "text": [
      "exception: 404 {\"message\": \"Not Found\", \"documentation_url\": \"https://docs.github.com/rest/repos/repos#get-a-repository\"}\n",
      "exception: 404 {\"message\": \"Not Found\", \"documentation_url\": \"https://docs.github.com/rest/repos/repos#get-a-repository\"}\n"
     ]
    },
    {
     "name": "stderr",
     "output_type": "stream",
     "text": [
      "Following Github server redirection from /repos/lwilliams1990/deepfence-threatmapper-lab to /repositories/270369845\n"
     ]
    },
    {
     "name": "stdout",
     "output_type": "stream",
     "text": [
      "exception: 404 {\"message\": \"Not Found\", \"documentation_url\": \"https://docs.github.com/rest/repos/repos#get-a-repository\"}\n",
      "exception: 404 {\"message\": \"Not Found\", \"documentation_url\": \"https://docs.github.com/rest/repos/repos#get-a-repository\"}\n",
      "exception: 404 {\"message\": \"Not Found\", \"documentation_url\": \"https://docs.github.com/rest/repos/repos#get-a-repository\"}\n",
      "exception: 404 {\"message\": \"Not Found\", \"documentation_url\": \"https://docs.github.com/rest/repos/repos#get-a-repository\"}\n",
      "exception: 404 {\"message\": \"Not Found\", \"documentation_url\": \"https://docs.github.com/rest/repos/repos#get-a-repository\"}\n",
      "exception: 404 {\"message\": \"Not Found\", \"documentation_url\": \"https://docs.github.com/rest/repos/repos#get-a-repository\"}\n",
      "exception: 404 {\"message\": \"Not Found\", \"documentation_url\": \"https://docs.github.com/rest/repos/repos#get-a-repository\"}\n",
      "exception: 404 {\"message\": \"Not Found\", \"documentation_url\": \"https://docs.github.com/rest/repos/repos#get-a-repository\"}\n",
      "exception: 404 {\"message\": \"Not Found\", \"documentation_url\": \"https://docs.github.com/rest/repos/repos#get-a-repository\"}\n",
      "exception: 404 {\"message\": \"Not Found\", \"documentation_url\": \"https://docs.github.com/rest/repos/repos#get-a-repository\"}\n",
      "exception: 404 {\"message\": \"Not Found\", \"documentation_url\": \"https://docs.github.com/rest/repos/repos#get-a-repository\"}\n"
     ]
    },
    {
     "name": "stderr",
     "output_type": "stream",
     "text": [
      "Following Github server redirection from /repos/kmarilleau/a-cloud-guru-gcp-cloud-engineer-terraform to /repositories/323167041\n"
     ]
    },
    {
     "name": "stdout",
     "output_type": "stream",
     "text": [
      "exception: 404 {\"message\": \"Not Found\", \"documentation_url\": \"https://docs.github.com/rest\"}\n",
      "exception: 404 {\"message\": \"Not Found\", \"documentation_url\": \"https://docs.github.com/rest/repos/repos#get-a-repository\"}\n",
      "exception: 404 {\"message\": \"Not Found\", \"documentation_url\": \"https://docs.github.com/rest/repos/repos#get-a-repository\"}\n",
      "exception: 404 {\"message\": \"Not Found\", \"documentation_url\": \"https://docs.github.com/rest/repos/repos#get-a-repository\"}\n",
      "exception: 404 {\"message\": \"Not Found\", \"documentation_url\": \"https://docs.github.com/rest/repos/repos#get-a-repository\"}\n",
      "exception: 404 {\"message\": \"Not Found\", \"documentation_url\": \"https://docs.github.com/rest/repos/repos#get-a-repository\"}\n",
      "exception: 404 {\"message\": \"Not Found\", \"documentation_url\": \"https://docs.github.com/rest/repos/repos#get-a-repository\"}\n",
      "exception: 404 {\"message\": \"Not Found\", \"documentation_url\": \"https://docs.github.com/rest/repos/repos#get-a-repository\"}\n",
      "exception: 404 {\"message\": \"Not Found\", \"documentation_url\": \"https://docs.github.com/rest/repos/repos#get-a-repository\"}\n"
     ]
    },
    {
     "name": "stderr",
     "output_type": "stream",
     "text": [
      "Following Github server redirection from /repos/ryanlg/ryhino-public to /repositories/421638252\n"
     ]
    },
    {
     "name": "stdout",
     "output_type": "stream",
     "text": [
      "exception: 404 {\"message\": \"Not Found\", \"documentation_url\": \"https://docs.github.com/rest/repos/repos#get-a-repository\"}\n",
      "exception: 404 {\"message\": \"Not Found\", \"documentation_url\": \"https://docs.github.com/rest/repos/repos#get-a-repository\"}\n"
     ]
    },
    {
     "name": "stderr",
     "output_type": "stream",
     "text": [
      "Following Github server redirection from /repos/Lemax-Dev/infrastructure-repo to /repositories/230511040\n"
     ]
    },
    {
     "name": "stdout",
     "output_type": "stream",
     "text": [
      "exception: 404 {\"message\": \"Not Found\", \"documentation_url\": \"https://docs.github.com/rest/repos/repos#get-a-repository\"}\n",
      "exception: 404 {\"message\": \"Not Found\", \"documentation_url\": \"https://docs.github.com/rest/repos/repos#get-a-repository\"}\n"
     ]
    },
    {
     "name": "stderr",
     "output_type": "stream",
     "text": [
      "Following Github server redirection from /repos/globeandmail/aws-dynamodb to /repositories/231636188\n"
     ]
    },
    {
     "name": "stdout",
     "output_type": "stream",
     "text": [
      "exception: 404 {\"message\": \"Not Found\", \"documentation_url\": \"https://docs.github.com/rest/repos/repos#get-a-repository\"}\n",
      "exception: 404 {\"message\": \"Not Found\", \"documentation_url\": \"https://docs.github.com/rest/repos/repos#get-a-repository\"}\n",
      "exception: 404 {\"message\": \"Not Found\", \"documentation_url\": \"https://docs.github.com/rest/repos/repos#get-a-repository\"}\n",
      "exception: 404 {\"message\": \"Not Found\", \"documentation_url\": \"https://docs.github.com/rest/repos/repos#get-a-repository\"}\n",
      "exception: 404 {\"message\": \"Not Found\", \"documentation_url\": \"https://docs.github.com/rest/repos/repos#get-a-repository\"}\n",
      "exception: 404 {\"message\": \"Not Found\", \"documentation_url\": \"https://docs.github.com/rest/repos/repos#get-a-repository\"}\n"
     ]
    },
    {
     "name": "stderr",
     "output_type": "stream",
     "text": [
      "Following Github server redirection from /repos/matthewbentley/blog-terraform to /repositories/113337906\n"
     ]
    },
    {
     "name": "stdout",
     "output_type": "stream",
     "text": [
      "exception: 404 {\"message\": \"Not Found\", \"documentation_url\": \"https://docs.github.com/rest/repos/repos#get-a-repository\"}\n",
      "exception: 404 {\"message\": \"Not Found\", \"documentation_url\": \"https://docs.github.com/rest/repos/repos#get-a-repository\"}\n",
      "exception: 404 {\"message\": \"Not Found\", \"documentation_url\": \"https://docs.github.com/rest/repos/repos#get-a-repository\"}\n",
      "exception: 404 {\"message\": \"Not Found\", \"documentation_url\": \"https://docs.github.com/rest/repos/repos#get-a-repository\"}\n",
      "exception: 404 {\"message\": \"Not Found\", \"documentation_url\": \"https://docs.github.com/rest/repos/repos#get-a-repository\"}\n",
      "exception: 404 {\"message\": \"Not Found\", \"documentation_url\": \"https://docs.github.com/rest/repos/repos#get-a-repository\"}\n",
      "exception: 404 {\"message\": \"Not Found\", \"documentation_url\": \"https://docs.github.com/rest/repos/repos#get-a-repository\"}\n",
      "exception: 404 {\"message\": \"Not Found\", \"documentation_url\": \"https://docs.github.com/rest/repos/repos#get-a-repository\"}\n"
     ]
    },
    {
     "name": "stderr",
     "output_type": "stream",
     "text": [
      "Following Github server redirection from /repos/monish-advani/terragoat-test to /repositories/304530642\n"
     ]
    },
    {
     "name": "stdout",
     "output_type": "stream",
     "text": [
      "exception: 404 {\"message\": \"Not Found\", \"documentation_url\": \"https://docs.github.com/rest/repos/repos#get-a-repository\"}\n",
      "exception: 404 {\"message\": \"Not Found\", \"documentation_url\": \"https://docs.github.com/rest/repos/repos#get-a-repository\"}\n",
      "exception: 404 {\"message\": \"Not Found\", \"documentation_url\": \"https://docs.github.com/rest/repos/repos#get-a-repository\"}\n",
      "exception: 404 {\"message\": \"Not Found\", \"documentation_url\": \"https://docs.github.com/rest/repos/repos#get-a-repository\"}\n",
      "exception: 404 {\"message\": \"Not Found\", \"documentation_url\": \"https://docs.github.com/rest/repos/repos#get-a-repository\"}\n",
      "exception: 404 {\"message\": \"Not Found\", \"documentation_url\": \"https://docs.github.com/rest/repos/repos#get-a-repository\"}\n",
      "exception: 404 {\"message\": \"Not Found\", \"documentation_url\": \"https://docs.github.com/rest/repos/repos#get-a-repository\"}\n",
      "exception: 404 {\"message\": \"Not Found\", \"documentation_url\": \"https://docs.github.com/rest/repos/repos#get-a-repository\"}\n",
      "exception: 404 {\"message\": \"Not Found\", \"documentation_url\": \"https://docs.github.com/rest/repos/repos#get-a-repository\"}\n",
      "exception: 404 {\"message\": \"Not Found\", \"documentation_url\": \"https://docs.github.com/rest/repos/repos#get-a-repository\"}\n",
      "exception: 404 {\"message\": \"Not Found\", \"documentation_url\": \"https://docs.github.com/rest/repos/repos#get-a-repository\"}\n",
      "exception: 404 {\"message\": \"Not Found\", \"documentation_url\": \"https://docs.github.com/rest/repos/repos#get-a-repository\"}\n",
      "exception: 404 {\"message\": \"Not Found\", \"documentation_url\": \"https://docs.github.com/rest/repos/repos#get-a-repository\"}\n",
      "exception: 404 {\"message\": \"Not Found\", \"documentation_url\": \"https://docs.github.com/rest/repos/repos#get-a-repository\"}\n",
      "exception: 404 {\"message\": \"Not Found\", \"documentation_url\": \"https://docs.github.com/rest/repos/repos#get-a-repository\"}\n",
      "exception: 404 {\"message\": \"Not Found\", \"documentation_url\": \"https://docs.github.com/rest/repos/repos#get-a-repository\"}\n",
      "exception: 404 {\"message\": \"Not Found\", \"documentation_url\": \"https://docs.github.com/rest/repos/repos#get-a-repository\"}\n",
      "exception: 404 {\"message\": \"Not Found\", \"documentation_url\": \"https://docs.github.com/rest/repos/repos#get-a-repository\"}\n",
      "exception: 404 {\"message\": \"Not Found\", \"documentation_url\": \"https://docs.github.com/rest/repos/repos#get-a-repository\"}\n",
      "exception: 404 {\"message\": \"Not Found\", \"documentation_url\": \"https://docs.github.com/rest\"}\n",
      "exception: 404 {\"message\": \"Not Found\", \"documentation_url\": \"https://docs.github.com/rest/repos/repos#get-a-repository\"}\n",
      "exception: 404 {\"message\": \"Not Found\", \"documentation_url\": \"https://docs.github.com/rest/repos/repos#get-a-repository\"}\n",
      "exception: 404 {\"message\": \"Not Found\", \"documentation_url\": \"https://docs.github.com/rest/repos/repos#get-a-repository\"}\n",
      "exception: 404 {\"message\": \"Not Found\", \"documentation_url\": \"https://docs.github.com/rest/repos/repos#get-a-repository\"}\n",
      "exception: 404 {\"message\": \"Not Found\", \"documentation_url\": \"https://docs.github.com/rest/repos/repos#get-a-repository\"}\n",
      "exception: 404 {\"message\": \"Not Found\", \"documentation_url\": \"https://docs.github.com/rest/repos/repos#get-a-repository\"}\n",
      "exception: 404 {\"message\": \"Not Found\", \"documentation_url\": \"https://docs.github.com/rest/repos/repos#get-a-repository\"}\n",
      "exception: 404 {\"message\": \"Not Found\", \"documentation_url\": \"https://docs.github.com/rest\"}\n",
      "exception: 404 {\"message\": \"Not Found\", \"documentation_url\": \"https://docs.github.com/rest/repos/repos#get-a-repository\"}\n",
      "exception: 404 {\"message\": \"Not Found\", \"documentation_url\": \"https://docs.github.com/rest/repos/repos#get-a-repository\"}\n",
      "exception: 404 {\"message\": \"Not Found\", \"documentation_url\": \"https://docs.github.com/rest/repos/repos#get-a-repository\"}\n",
      "exception: 404 {\"message\": \"Not Found\", \"documentation_url\": \"https://docs.github.com/rest/repos/repos#get-a-repository\"}\n",
      "exception: 404 {\"message\": \"Not Found\", \"documentation_url\": \"https://docs.github.com/rest/repos/repos#get-a-repository\"}\n",
      "exception: 404 {\"message\": \"Not Found\", \"documentation_url\": \"https://docs.github.com/rest/repos/repos#get-a-repository\"}\n"
     ]
    },
    {
     "name": "stderr",
     "output_type": "stream",
     "text": [
      "Following Github server redirection from /repos/dgorbov/terraform-s3-backend-setup to /repositories/230207730\n"
     ]
    },
    {
     "name": "stdout",
     "output_type": "stream",
     "text": [
      "exception: 404 {\"message\": \"Not Found\", \"documentation_url\": \"https://docs.github.com/rest/repos/repos#get-a-repository\"}\n",
      "exception: 404 {\"message\": \"Not Found\", \"documentation_url\": \"https://docs.github.com/rest/repos/repos#get-a-repository\"}\n"
     ]
    }
   ],
   "source": [
    "# SETTINGS\n",
    "check_limit_every_x_calls = 5\n",
    "api_limit_buffer = 10\n",
    "api_calls_per_debug = 500\n",
    "\n",
    "# INITIALIZATION\n",
    "\n",
    "import json\n",
    "import datetime\n",
    "import time\n",
    "\n",
    "# INITIALIZATION\n",
    "terraform_output = open(STEP4_TFCOMMITS)\n",
    "step4_output = json.load(terraform_output)\n",
    "\n",
    "# Retrieve data from previous run\n",
    "try:\n",
    "    previous_run = open(STEP5_TF_REPOS_WITH_PR)\n",
    "    repoData_dict = json.load(previous_run)\n",
    "except FileNotFoundError as e:\n",
    "    repoData_dict = []\n",
    "\n",
    "iteration = 0\n",
    "calls_till_next_debug = 0\n",
    "calls_till_limit_checkup = 0\n",
    "\n",
    "# Check for api limits, also periodically calls print debug.\n",
    "def CheckForApiLimit():\n",
    "    global calls_till_limit_checkup\n",
    "    global calls_till_next_debug\n",
    "    global api_calls_per_debug\n",
    "    global api_limit_buffer\n",
    "\n",
    "    # check for limit\n",
    "    if (calls_till_limit_checkup == 0):\n",
    "        core_limit = g.get_rate_limit().core\n",
    "\n",
    "        # sleep when exceeded api core limit\n",
    "        if (core_limit.remaining <= api_limit_buffer):\n",
    "            time_to_sleep = core_limit.raw_data['reset'] - time.time() + 1\n",
    "            print(\"Rate limit exceeded, sleeping for\", time_to_sleep, \"seconds.\", \"Actual remaining calls\", core_limit.remaining)\n",
    "            time.sleep(time_to_sleep)\n",
    "\n",
    "        calls_till_limit_checkup = check_limit_every_x_calls\n",
    "    \n",
    "    calls_till_limit_checkup -= 1\n",
    "\n",
    "    # check for debug\n",
    "    if (calls_till_next_debug == 0):\n",
    "        PrintDebug()\n",
    "        calls_till_next_debug = api_calls_per_debug\n",
    "\n",
    "    calls_till_next_debug -= 1\n",
    "\n",
    "# Prints debug message\n",
    "def PrintDebug():\n",
    "    global iteration\n",
    "    global repo_url\n",
    "\n",
    "    print(datetime.datetime.now().strftime(\"%H:%M:%S\"), \":\", \n",
    "              \"current iteration:\", iteration, \n",
    "              \"url:\", repo_url)\n",
    "\n",
    "# Pull request scraping script\n",
    "for rp in step4_output[\"repositories\"]:\n",
    "    try:\n",
    "        iteration += 1\n",
    "            \n",
    "        repo_url = rp[\"name\"]\n",
    "\n",
    "        # skip already scraped repositories\n",
    "        if any(d[\"url\"] == repo_url for d in repoData_dict):\n",
    "            continue\n",
    "\n",
    "        # Get the repo object from the url\n",
    "        split_list = repo_url.split(\"/\")\n",
    "        actual_url = (split_list[3]+ '/' + split_list[4]).split('.git')[0]\n",
    "        repo = g.get_repo(actual_url)\n",
    "        \n",
    "        # Get required info for pull requests\n",
    "        pull_requests_dict = []\n",
    "        pull_requests = repo.get_pulls(state=\"closed\")\n",
    "\n",
    "        if pull_requests.totalCount > 0:\n",
    "            for pr in pull_requests:\n",
    "    \n",
    "                # retrieve all review comments, not required if there are none.\n",
    "                comments = []\n",
    "            \n",
    "                for review in pr.get_reviews():\n",
    "                    if (review.body.strip() != \"\"):\n",
    "                        comments.append(review.body)\n",
    "                CheckForApiLimit()\n",
    "\n",
    "                if (pr.review_comments > 0):\n",
    "                    for review_comment in pr.get_review_comments():\n",
    "                        if (review_comment.body.strip() != \"\"):\n",
    "                            comments.append(review_comment.body)\n",
    "                    CheckForApiLimit()\n",
    "\n",
    "                if (pr.comments > 0):\n",
    "                    for comment in pr.get_issue_comments():\n",
    "                        if (comment.body.strip() != \"\"):\n",
    "                            comments.append(comment.body)\n",
    "                    CheckForApiLimit()\n",
    "    \n",
    "                # retrieve all connected commits.\n",
    "                commits = []\n",
    "                for commit in pr.get_commits():\n",
    "                    commits.append(commit.sha)\n",
    "                CheckForApiLimit()\n",
    "    \n",
    "                pull_requests_dict.append({\"url\": pr.html_url, \"title\": pr.title, \"body\": pr.body, \"comments\": comments, \"commits\": commits})\n",
    "            \n",
    "            CheckForApiLimit()        \n",
    "            repoData_dict.append({\"url\": repo_url, \"pull_requests\": pull_requests_dict});\n",
    "            \n",
    "            with open(STEP5_TF_REPOS_WITH_PR, \"w\") as outfile:\n",
    "                json.dump(repoData_dict, outfile)\n",
    "    except Exception as e:\n",
    "        print(\"exception:\", e)"
   ]
  },
  {
   "cell_type": "markdown",
   "id": "3c661aa7-2628-416b-9121-fc9d06060467",
   "metadata": {},
   "source": [
    "## STEP 6: Find tf commits for tf repos with pr's \n",
    "\n",
    "For remaining repositories from step 5, collect all commits that modify a terraform file."
   ]
  },
  {
   "cell_type": "code",
   "execution_count": 14,
   "id": "fa3cc0b8-8193-4bc1-821c-39080379904d",
   "metadata": {},
   "outputs": [
    {
     "name": "stdout",
     "output_type": "stream",
     "text": [
      "at iteration 0\n",
      "at iteration 50\n",
      "at iteration 100\n",
      "at iteration 150\n",
      "at iteration 200\n",
      "at iteration 250\n",
      "at iteration 300\n",
      "at iteration 350\n",
      "at iteration 400\n",
      "at iteration 450\n",
      "at iteration 500\n",
      "at iteration 550\n",
      "at iteration 600\n"
     ]
    }
   ],
   "source": [
    "from pydriller import Repository\n",
    "\n",
    "import json\n",
    "\n",
    "step5 = open(STEP5_TF_REPOS_WITH_PR)\n",
    "tf_repositories = json.load(step5)\n",
    "\n",
    "terraform_keywords = ['.tf', '.tf.json']\n",
    "\n",
    "iteration = 0\n",
    "    \n",
    "# Pull request scraping script\n",
    "repo_dic = []\n",
    "for repository in tf_repositories:\n",
    "    try:\n",
    "        if (iteration % 50 == 0):\n",
    "            print(\"at iteration\", iteration)\n",
    "            with open(STEP6_TF_REPOS_COMMITS, \"w\") as outfile:\n",
    "                json.dump(repo_dic, outfile)\n",
    "\n",
    "        iteration += 1\n",
    "\n",
    "        # Get each commit\n",
    "        commit_dic = []\n",
    "        for commit in Repository(repository[\"url\"]).traverse_commits():\n",
    "\n",
    "            modified_terraform = False\n",
    "            # find if it changes a terraform file\n",
    "            for file in commit.modified_files:\n",
    "                if any(key in file.filename for key in terraform_keywords):\n",
    "                    modified_terraform = True\n",
    "            \n",
    "            if modified_terraform:\n",
    "                commit_dic.append({\"hash\": commit.hash, \n",
    "                                   \"url\": repository[\"url\"].split(\".git\")[0] + \"/commit/\" + commit.hash, \n",
    "                                   \"date\": str(commit.author_date), \n",
    "                                   \"body\": commit.msg})\n",
    "  \n",
    "        repo_dic.append({\"url\":repository[\"url\"], \"commits\":commit_dic})\n",
    "        \n",
    "    except Exception as e:\n",
    "        print(\"exception:\", e)\n",
    "\n",
    "with open(STEP6_TF_REPOS_COMMITS, \"w\") as outfile:\n",
    "        json.dump(repo_dic, outfile)"
   ]
  },
  {
   "cell_type": "markdown",
   "id": "afdef562-2f31-4504-8ac0-dc95c2c1d27d",
   "metadata": {},
   "source": [
    "## STEP 6b: exclude unrelated tf commits"
   ]
  },
  {
   "cell_type": "code",
   "execution_count": 16,
   "id": "40d17f90-039c-49ab-9869-86012e6c82be",
   "metadata": {},
   "outputs": [],
   "source": [
    "import json\n",
    "\n",
    "step6 = open(STEP6_TF_REPOS_COMMITS)\n",
    "repository_commits = json.load(step6)\n",
    "\n",
    "labels_file = open(COMMIT_LABELS)\n",
    "commit_labels = json.load(labels_file)\n",
    "\n",
    "for repository in repository_commits:\n",
    "    commits = []\n",
    "    for commit in repository[\"commits\"]:\n",
    "        label = commit_labels.get(commit[\"hash\"], None)\n",
    "        \n",
    "        if label is None or \"unrelated\" not in label:\n",
    "            commits.append(commit)\n",
    "    repository[\"commits\"] = commits\n",
    "\n",
    "with open(STEP6A_TF_REPOS_RELEVANT_COMMITS, \"w\") as outfile:\n",
    "        json.dump(repository_commits, outfile)"
   ]
  },
  {
   "cell_type": "markdown",
   "id": "fa74b07b-f462-4646-a413-5747db1f864f",
   "metadata": {},
   "source": [
    "## STEP 7: filter out pull requests without relevant tf commit\n",
    "\n",
    "Removes any pull request that does not include a commit from the previous step, for the remaining pull requests, it combines the two datasets into one."
   ]
  },
  {
   "cell_type": "code",
   "execution_count": 41,
   "id": "93e6ca7c-17ff-4858-a7a0-8b4530b4f1e6",
   "metadata": {},
   "outputs": [],
   "source": [
    "import json\n",
    "\n",
    "step5 = open(STEP5_TF_REPOS_WITH_PR)\n",
    "repository_input = json.load(step5)\n",
    "\n",
    "step6a = open(STEP6A_TF_REPOS_RELEVANT_COMMITS)\n",
    "commit_input = json.load(step6a)\n",
    "\n",
    "iteration = 0\n",
    "\n",
    "output_dict = []\n",
    "\n",
    "# for each repository\n",
    "for repository in repository_input:\n",
    "    # find commits for repo from step 6a\n",
    "    commit_input_list = next(repo[\"commits\"] for repo in commit_input if repo[\"url\"] == repository[\"url\"])\n",
    "\n",
    "    pr_dict = []\n",
    "    # for each pull request\n",
    "    for pull_request in repository[\"pull_requests\"]:\n",
    "        commit_dict = []\n",
    "\n",
    "        # for each commit\n",
    "        for commit_hash in pull_request[\"commits\"]:\n",
    "            # Find the exact commit from step 7\n",
    "            commit_data = next((commit for commit in commit_input_list if commit[\"hash\"] == commit_hash), None)\n",
    "            if (commit_data is not None):\n",
    "                commit_dict.append(commit_data)\n",
    "\n",
    "        pull_request[\"total_commits\"] = len(pull_request[\"commits\"])\n",
    "        pull_request[\"commits\"] = commit_dict\n",
    "        \n",
    "        if (len(commit_dict) > 0):\n",
    "            pr_dict.append(pull_request)\n",
    "    \n",
    "    if (len(pr_dict) > 0):\n",
    "        output_dict.append({\"url\": repository[\"url\"], \"pull_requests\": pr_dict})\n",
    "\n",
    "with open(STEP7_TF_REPOS_WITH_TF_PR, \"w\") as outfile:\n",
    "    json.dump(output_dict, outfile) "
   ]
  },
  {
   "cell_type": "markdown",
   "id": "a10ca568-c990-49f9-b5ba-80d5345aff95",
   "metadata": {},
   "source": [
    "## STEP 8: list all tf pull request with a keyword"
   ]
  },
  {
   "cell_type": "code",
   "execution_count": 42,
   "id": "922f5e46-7106-4995-b526-19b3030b0f4d",
   "metadata": {},
   "outputs": [],
   "source": [
    "cost_keywords = [\"cheap\", \"expens\", \"cost\", \"efficient\", \"bill\", \"pay\"]\n",
    "\n",
    "step7 = open(STEP7_TF_REPOS_WITH_TF_PR)\n",
    "repo_input = json.load(step7)\n",
    "\n",
    "pullrequest_dict_output = []\n",
    "for repository in repo_input:\n",
    "    for pr in repository[\"pull_requests\"]:\n",
    "        \n",
    "        title   = True if (pr[\"title\"]        is not None and any(key in pr[\"title\"].lower()    for key in cost_keywords)) else False\n",
    "        body    = True if (pr[\"body\"]         is not None and any(key in pr[\"body\"].lower()     for key in cost_keywords)) else False\n",
    "        comment = True if (any(comment        is not None and     key in comment.lower()        for key in cost_keywords for comment in pr[\"comments\"])) else False\n",
    "        commit  = True if (any(commit[\"body\"] is not None and     key in commit[\"body\"].lower() for key in cost_keywords for commit  in pr[\"commits\"]))  else False\n",
    "            \n",
    "        reason = ((\"title \" if title else \"\") + \n",
    "                  (\"body \" if body else \"\") + \n",
    "                  (\"comment \" if comment else \"\") + \n",
    "                  (\"commit \" if commit else \"\"))\n",
    "        \n",
    "        if (title or body or comment or commit):\n",
    "            pullrequest_dict_output.append({\"reason\": reason.strip(), \"pull_request\": pr})\n",
    "\n",
    "with open(STEP8_TF_KEYWORD_PR, \"w\") as outfile:\n",
    "    json.dump(pullrequest_dict_output, outfile) "
   ]
  },
  {
   "cell_type": "markdown",
   "id": "03773481-1f10-4e4f-a34d-f925d44491bb",
   "metadata": {},
   "source": [
    "## STEP 9: Parse to dataset format"
   ]
  },
  {
   "cell_type": "code",
   "execution_count": 44,
   "id": "a9d6a372-29a0-4e87-be59-64e0dfc68b9e",
   "metadata": {},
   "outputs": [],
   "source": [
    "import json\n",
    "\n",
    "step8 = open(STEP8_TF_KEYWORD_PR)\n",
    "pull_request_reasons = json.load(step8)\n",
    "\n",
    "pr_output = []\n",
    "for pull_request_reason in pull_request_reasons:\n",
    "    pull_request = pull_request_reason[\"pull_request\"]\n",
    "    commits = []\n",
    "    for commit in pull_request[\"commits\"]:\n",
    "        commits.append(commit[\"hash\"])\n",
    "    pr_output.append(\n",
    "        {\n",
    "            \"type\": \"pull_request\", \n",
    "            \"url\": pull_request[\"url\"],\n",
    "            \"content\": {\n",
    "                \"title\": pull_request[\"title\"],\n",
    "                \"body\": pull_request[\"body\"],\n",
    "                \"comments\": pull_request[\"comments\"],\n",
    "                \"commits\": commits\n",
    "                },\n",
    "            \"codes\": []\n",
    "        })\n",
    "\n",
    "with open(STEP9_TF_PR_DATASET, \"w\") as outfile:\n",
    "    json.dump(pr_output, outfile) "
   ]
  },
  {
   "cell_type": "markdown",
   "id": "51f216e1-5413-40cb-94fc-61185aa45963",
   "metadata": {},
   "source": [
    "## STEP 9: results"
   ]
  },
  {
   "cell_type": "code",
   "execution_count": 43,
   "id": "4b231bb8-ced9-404b-890f-643e35b3df9d",
   "metadata": {},
   "outputs": [
    {
     "name": "stdout",
     "output_type": "stream",
     "text": [
      "Total repositories: 1278\n",
      "Of those that exist and have pull request(s): 610\n",
      "Of those that have relevant TF commits: 469\n",
      "\n",
      "Total TF PR's with a keyword: 814\n",
      "\n",
      "PR with keyword in:\t Only in:\n",
      "Title:\t\t 111 \t 30\n",
      "Description:\t 363 \t 214\n",
      "Comment:\t 354 \t 322\n",
      "commit message*: 194 \t 63\n",
      "\n",
      "*commits labeled as unrelevant have already been removed from the dataset, while the same is not true for the other locations.\n",
      "\n",
      "Total amount of relevant commits in TF PR's: 130720\n",
      "Of those that modify a TF file: 3266\n",
      "Of those that have a keyword: 203\n",
      "\n",
      "Amount of PR's with more than 250 commits (limit): 34\n"
     ]
    }
   ],
   "source": [
    "import json\n",
    "\n",
    "cost_keywords = [\"cheap\", \"expens\", \"cost\", \"efficient\", \"bill\", \"pay\"]\n",
    "\n",
    "step4 = open(STEP4_TFCOMMITS)\n",
    "step4_data = json.load(step4)\n",
    "\n",
    "step5 = open(STEP5_TF_REPOS_WITH_PR)\n",
    "step5_data = json.load(step5)\n",
    "\n",
    "step7 = open(STEP7_TF_REPOS_WITH_TF_PR)\n",
    "repo_input = json.load(step7)\n",
    "\n",
    "step8 = open(STEP8_TF_KEYWORD_PR)\n",
    "pr_reason_input = json.load(step8)\n",
    "\n",
    "\n",
    "# GENERAL REPOSITORY DATA\n",
    "\n",
    "print(\"Total repositories:\" , step4_data[\"no_of_repos\"])\n",
    "print(\"Of those that exist and have pull request(s):\", len(step5_data))\n",
    "print(\"Of those that have relevant TF commits:\", len(repo_input))\n",
    "\n",
    "print(\"\")\n",
    "\n",
    "# GENERAL PULL REQUEST DATA\n",
    "print(\"Total TF PR's with a keyword:\", len(pr_reason_input))\n",
    "\n",
    "print(\"\")\n",
    "\n",
    "print(\"PR with keyword in:\\t\", \"Only in:\")\n",
    "print(\"Title:\\t\\t\", len([pr for pr in pr_reason_input if \"title\" in pr[\"reason\"]]), \"\\t\", len([pr for pr in pr_reason_input if \"title\" == pr[\"reason\"]]))\n",
    "print(\"Description:\\t\", len([pr for pr in pr_reason_input if \"body\" in pr[\"reason\"]]), \"\\t\", len([pr for pr in pr_reason_input if \"body\" == pr[\"reason\"]]))\n",
    "print(\"Comment:\\t\", len([pr for pr in pr_reason_input if \"comment\" in pr[\"reason\"]]), \"\\t\", len([pr for pr in pr_reason_input if \"comment\" == pr[\"reason\"]]))\n",
    "print(\"commit message*:\", len([pr for pr in pr_reason_input if \"commit\" in pr[\"reason\"]]), \"\\t\", len([pr for pr in pr_reason_input if \"commit\" == pr[\"reason\"]]))  \n",
    "\n",
    "print(\"\")\n",
    "\n",
    "print(\"*commits labeled as unrelevant have already been removed from the dataset, while the same is not true for the other locations.\")\n",
    "\n",
    "print(\"\")\n",
    "\n",
    "# GENERAL COMMIT DATA\n",
    "\n",
    "print(\"Total amount of relevant commits in TF PR's:\", sum([pr[\"total_commits\"] for repo in repo_input for pr in repo[\"pull_requests\"]]))\n",
    "print(\"Of those that modify a TF file:\", len([commit for pr_reason in pr_reason_input for commit in pr_reason[\"pull_request\"][\"commits\"]]))\n",
    "print(\"Of those that have a keyword:\", len([commit for pr_reason in pr_reason_input for commit in pr_reason[\"pull_request\"][\"commits\"] if any(key in commit[\"body\"].lower() for key in cost_keywords)]))\n",
    "\n",
    "print(\"\")\n",
    "\n",
    "count = 0\n",
    "for repo in repo_input:\n",
    "    for pr in repo[\"pull_requests\"]:\n",
    "        if (pr[\"total_commits\"] >= 250):\n",
    "            count += 1\n",
    "print(\"Amount of PR's with more than 250 commits (limit):\", count)\n",
    "    \n"
   ]
  },
  {
   "cell_type": "code",
   "execution_count": null,
   "id": "3f48d916-2ec6-4755-bb90-c8ba09b53f6b",
   "metadata": {},
   "outputs": [],
   "source": []
  }
 ],
 "metadata": {
  "kernelspec": {
   "display_name": "Python 3 (ipykernel)",
   "language": "python",
   "name": "python3"
  },
  "language_info": {
   "codemirror_mode": {
    "name": "ipython",
    "version": 3
   },
   "file_extension": ".py",
   "mimetype": "text/x-python",
   "name": "python",
   "nbconvert_exporter": "python",
   "pygments_lexer": "ipython3",
   "version": "3.10.0"
  }
 },
 "nbformat": 4,
 "nbformat_minor": 5
}
