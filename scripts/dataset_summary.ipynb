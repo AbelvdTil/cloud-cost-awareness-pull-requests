{
 "cells": [
  {
   "cell_type": "markdown",
   "id": "178176c3-bf02-4a9f-b1fb-6b3d480e34e8",
   "metadata": {},
   "source": [
    "# Dataset summary"
   ]
  },
  {
   "cell_type": "code",
   "execution_count": 1,
   "id": "e55b621d-2a63-4000-946d-0451236ee713",
   "metadata": {},
   "outputs": [],
   "source": [
    "import os\n",
    "\n",
    "NEW_COMMIT_DATASET = os.path.join(\"data\", \"new-commits-dataset.json\") \n",
    "ORIGINAL_DATASET = os.path.join(\"data\", \"dataset.json\") \n",
    "PR_DATASET = os.path.join(\"data\", \"pullrequest-scraping\", \"step9-tf-pr-dataset.json\") "
   ]
  },
  {
   "cell_type": "code",
   "execution_count": 4,
   "id": "45eb83c1-18a1-4091-95ed-3204d26fa05e",
   "metadata": {},
   "outputs": [
    {
     "name": "stdout",
     "output_type": "stream",
     "text": [
      "{'unrelated': 580, 'saving': 121, 'instance': 60, 'alert': 32, 'awareness': 54, 'storage': 37, 'feature': 14, 'increase': 13, 'unsure': 13, 'provider': 5, 'billing_mode': 6, 'networking': 18, 'cluster': 15, 'policy': 1, 'note': 2, 'note: bad example of pr': 1}\n"
     ]
    }
   ],
   "source": [
    "import json\n",
    "\n",
    "file = open(PR_DATASET)\n",
    "nuggets = json.load(file)\n",
    "\n",
    "label_hist = {}\n",
    "\n",
    "for nugget in nuggets:\n",
    "    for label in nugget[\"codes\"]:\n",
    "        if label_hist.get(label, None) is None:\n",
    "            label_hist[label] = 1\n",
    "        else:\n",
    "            label_hist[label] = label_hist[label] + 1\n",
    "\n",
    "print(label_hist)"
   ]
  },
  {
   "cell_type": "code",
   "execution_count": null,
   "id": "73d9dbe0-09dc-4b0c-b29a-7d50ba3a8462",
   "metadata": {},
   "outputs": [],
   "source": []
  }
 ],
 "metadata": {
  "kernelspec": {
   "display_name": "Python 3 (ipykernel)",
   "language": "python",
   "name": "python3"
  },
  "language_info": {
   "codemirror_mode": {
    "name": "ipython",
    "version": 3
   },
   "file_extension": ".py",
   "mimetype": "text/x-python",
   "name": "python",
   "nbconvert_exporter": "python",
   "pygments_lexer": "ipython3",
   "version": "3.10.0"
  }
 },
 "nbformat": 4,
 "nbformat_minor": 5
}
