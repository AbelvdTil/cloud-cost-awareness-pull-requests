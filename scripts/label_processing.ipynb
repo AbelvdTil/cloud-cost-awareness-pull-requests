{
 "cells": [
  {
   "cell_type": "markdown",
   "id": "33f9fb69-8247-4c15-8fe1-5b8eb1ba76e1",
   "metadata": {},
   "source": [
    "# RAW labels\n",
    "\n",
    "For each commit, find whether it was unrelated or not."
   ]
  },
  {
   "cell_type": "markdown",
   "id": "1140704c-e709-4b64-be37-f07ebcf92a17",
   "metadata": {},
   "source": [
    "## Files"
   ]
  },
  {
   "cell_type": "code",
   "execution_count": 1,
   "id": "ecd304f4-b855-4039-b6f5-c11b786fb908",
   "metadata": {},
   "outputs": [],
   "source": [
    "import os\n",
    " \n",
    "RAW_COMMIT_CSV = os.path.join(\"data\", \"previous-study\", \"raw-commit-labels.csv\") \n",
    "NEW_COMMITS = os.path.join(\"data\", \"update-previous-study\", \"new-commits-dataset.json\")\n",
    "\n",
    "RAW_COMMIT = os.path.join(\"data\", \"process-labeled-commits\", \"raw-commit-labels.json\")\n",
    "NON_FORKED_RAW_COMMIT = os.path.join(\"data\", \"process-labeled-commits\", \"non-fork-commit-labels.json\")\n",
    "DISTINCT_RAW_COMMIT = os.path.join(\"data\", \"process-labeled-commits\", \"distinct-commit-labels.json\")\n",
    "REMAPPED_RAW_COMMIT = os.path.join(\"data\", \"process-labeled-commits\", \"remapped-commit-labels.json\")\n",
    "\n",
    "FULL_COMMIT_LABELS = os.path.join(\"data\", \"process-labeled-commits\", \"full-commit-labels.json\")\n"
   ]
  },
  {
   "cell_type": "markdown",
   "id": "5a1104c7-ad6a-489f-89f9-e2bc6931651c",
   "metadata": {},
   "source": [
    "## Parsing to json + initial fork filter"
   ]
  },
  {
   "cell_type": "code",
   "execution_count": 2,
   "id": "5a837441-081d-4245-8a11-5400fb4240b5",
   "metadata": {},
   "outputs": [],
   "source": [
    "# import csv\n",
    "import csv\n",
    "import json\n",
    "\n",
    "# read csv file to a list of dictionaries\n",
    "with open(RAW_COMMIT_CSV, 'r') as file:\n",
    "    csv_reader = csv.DictReader(file)\n",
    "    \n",
    "    raw_commit_labels = [{\"hash\": row[\"Commit Link\"].split(\"/commit/\")[1], \"codes\": [label.strip() for label in row[\"Labels\"].split(\",\")]} for row in csv_reader]  \n",
    "    \n",
    "with open(RAW_COMMIT, \"w\") as outfile:\n",
    "        json.dump(raw_commit_labels, outfile)\n",
    "\n",
    "non_forked = [commit for commit in raw_commit_labels for code in commit[\"codes\"] if \"fork\" not in code]\n",
    "\n",
    "with open(NON_FORKED_RAW_COMMIT, \"w\") as outfile:\n",
    "        json.dump(non_forked, outfile)\n",
    "    "
   ]
  },
  {
   "cell_type": "markdown",
   "id": "c91c1f40-dfe9-4318-9dd9-ddf84372798d",
   "metadata": {},
   "source": [
    "## Find unique commits\n",
    "\n",
    "Also reports duplicate commits that do not have same labels"
   ]
  },
  {
   "cell_type": "code",
   "execution_count": 3,
   "id": "eb5a22be-8781-4828-8cc2-fecee09ecea3",
   "metadata": {},
   "outputs": [
    {
     "name": "stdout",
     "output_type": "stream",
     "text": [
      "b8c57d20558b2a82f0bdedbfbb16211b299583e7 1: ['other-false_positive'] 2: ['other-addition-unknown']\n",
      "a07d0f5ae5219ebda9696978e49a6621ffe30a02 1: ['other-false_positive'] 2: ['other-addition-unknown']\n",
      "be1245d8634025277ba79a4155ee88d7eaffcdfb 1: ['cost-saving-instance'] 2: ['cost-awareness-instance']\n"
     ]
    }
   ],
   "source": [
    "file = open(NON_FORKED_RAW_COMMIT)\n",
    "nuggets = json.load(file)\n",
    "\n",
    "hash_hist = {}\n",
    "commit_list = []\n",
    "index = -1\n",
    "\n",
    "for nugget in nuggets:\n",
    "    commit_hash = nugget[\"hash\"]\n",
    "    \n",
    "    if hash_hist.get(commit_hash, None) is None:\n",
    "        index += 1\n",
    "        hash_hist[commit_hash] = index\n",
    "        commit_list.append(nugget)\n",
    "    else:\n",
    "        t_index = hash_hist[commit_hash]\n",
    "        if (commit_list[t_index] != nugget):\n",
    "            print(commit_hash, \"1:\", commit_list[t_index][\"codes\"], \"2:\", nugget[\"codes\"])\n",
    "\n",
    "with open(DISTINCT_RAW_COMMIT, \"w\") as outfile:\n",
    "        json.dump(commit_list, outfile)"
   ]
  },
  {
   "cell_type": "markdown",
   "id": "75809b57-d3e1-43b4-8e81-bbf92eb16282",
   "metadata": {},
   "source": [
    "## Manually reassign labels to make consistent"
   ]
  },
  {
   "cell_type": "markdown",
   "id": "8c0326d0-ea94-49c2-a0dc-6c159a399483",
   "metadata": {},
   "source": [
    "| commit | codes left commit | codes right commit | result codes\n",
    "| --- | --- | --- | --- |\n",
    "| b8c57d20558b2a82f0bdedbfbb16211b299583e7 | ['other-false_positive'] | ['other-addition-unknown'] | ['other-false_positive'] |\n",
    "| a07d0f5ae5219ebda9696978e49a6621ffe30a02  | ['other-false_positive'] | ['other-addition-unknown'] | ['other-false_positive'] |\n",
    "| be1245d8634025277ba79a4155ee88d7eaffcdfb  | ['cost-saving-instance'] | ['cost-awareness-instance'] | ['cost-saving-instance'] |\n",
    "\n",
    "These have been manually altered in the DISTINCT_RAW_COMMIT file."
   ]
  },
  {
   "cell_type": "markdown",
   "id": "89230fa4-7429-4f3f-9be4-6109f3f421b6",
   "metadata": {
    "jp-MarkdownHeadingCollapsed": true
   },
   "source": [
    "## Catalog labels\n",
    "\n",
    "Can be skipped"
   ]
  },
  {
   "cell_type": "code",
   "execution_count": 4,
   "id": "0fbcbbf0-1803-4286-b9b9-b4adf40f4d11",
   "metadata": {},
   "outputs": [
    {
     "name": "stdout",
     "output_type": "stream",
     "text": [
      "{'cost-saving-unknown': 47, 'other-addition-billing': 188, 'other-false_positive': 588, 'oither-false_positive': 1, 'cost-awareness-networking-NAT': 11, 'cost-saving-area': 12, 'other-addition-module': 121, 'cost-awareness-storage': 17, 'cost-saving-billing_mode': 13, 'cost-saving-cluster': 11, 'cost-awareness-instance': 48, 'other-addition-vars': 69, 'cost-awareness-billing_mode': 16, 'cost-saving-instance': 119, 'other-saving-billing_mode': 1, 'other-addition-cost_calculator': 54, 'other-addition-payload': 73, 'other-performance-payload': 5, 'other-refactor-payload': 35, 'other-bug_fix-modules': 1, 'other-bugfix-modules': 1, 'cost-saving-provider': 19, 'cost-awareness-policy': 8, 'cost-awareness-provider': 7, 'cost-increase-provider': 2, 'other-refactor-billing': 49, 'cost-awareness-unknown': 35, 'cost-saving-storage': 60, 'cost-saving-feature': 44, 'cost-saving-networking-NAT': 38, 'other-saving-provider': 2, 'other-performace-unknown': 2, 'cost-awareness-alert': 45, 'other-addition-flags': 7, 'cost-saving-networking-VPN': 4, 'other-additon-tags': 1, 'other-removal-billing': 15, 'other-addition-tags': 47, 'other-addition-unknown': 38, 'other-bug_fix-billing': 7, 'other-refactor-cost_calculator': 4, 'other-removal-cost_calculator': 3, 'other-addition-modules': 17, 'other-addition-docs': 1, 'ohter-refactor-payload': 1, 'other-additon-billing': 1, 'other-saving-cluster': 1, 'other-addition-feature': 3, 'other-refactor-tags': 11, 'other-bug_fix-vars': 7, 'other-performance-unknown': 11, 'cost-increase-networking-NAT': 3, 'cost-saving-policy': 3, 'other-bug_fix-flags': 1, 'cost-awareness-feature': 9, 'cost-awareness-domain': 3, 'other-refactor-unknown': 2, 'cost-increase-unknown': 2, 'other-refactor-flags': 2, 'other-removal-modules': 15, 'cost-saving-networking': 3, 'other-additon-unknown': 1, 'other-bug_fix-unknown': 4, 'other-removal-payload': 8, 'other-removal-vars': 13, 'other-removal-unknown': 1, 'other-additon-modules': 4, 'other-refactor-vars': 51, 'cost-saving-domain': 6, 'other-removal-tags': 4, 'cost-increase-instance': 4, 'other-refactor-modules': 1, 'other-unknown': 2, 'other-cost_calculator': 1, 'other-performance-vars': 3, 'other-refactor-module': 12, 'other-bug_fix-tags': 1, 'other-removal-module': 14, 'other-bug_fix-module': 12, 'oher-refactor-vars': 1, 'other-addtion-module': 1, 'other-bug_fix-payload': 3, 'cost-awareness-networking-VPN': 1, 'cost-awareness-cluster': 2, 'cost-awareness-area': 2, 'other-fix-billing': 2, 'other-removal-feature': 1, 'other-fix-cost_calculator': 2, 'other-refactoring-vars': 1, 'cost-increase-storage': 1}\n"
     ]
    }
   ],
   "source": [
    "file = open(DISTINCT_RAW_COMMIT)\n",
    "nuggets = json.load(file)\n",
    "\n",
    "label_hist = {}\n",
    "\n",
    "for nugget in nuggets:\n",
    "    for label in nugget[\"codes\"]:\n",
    "        if label_hist.get(label, None) is None:\n",
    "            label_hist[label] = 1\n",
    "        else:\n",
    "            label_hist[label] = label_hist[label] + 1\n",
    "\n",
    "print(label_hist)"
   ]
  },
  {
   "cell_type": "markdown",
   "id": "8ee12128-0663-44c6-81da-5491141e7c74",
   "metadata": {},
   "source": [
    "## Mark unrelated labels"
   ]
  },
  {
   "cell_type": "code",
   "execution_count": 7,
   "id": "24617c0d-c181-425b-aa51-6dc38383e750",
   "metadata": {},
   "outputs": [],
   "source": [
    "file = open(DISTINCT_RAW_COMMIT)\n",
    "nuggets = json.load(file)\n",
    "\n",
    "output = {}\n",
    "\n",
    "for nugget in nuggets:\n",
    "    other_labels = 0\n",
    "    for code in nugget[\"codes\"]:\n",
    "        if (\"other\" in code):\n",
    "            other_labels += 1\n",
    "    if (len(nugget[\"codes\"]) != other_labels):\n",
    "        output[nugget[\"hash\"]] = nugget[\"codes\"]\n",
    "    else:\n",
    "        output[nugget[\"hash\"]] = [\"unrelated\"]\n",
    "\n",
    "with open(REMAPPED_RAW_COMMIT, \"w\") as outfile:\n",
    "        json.dump(output, outfile)"
   ]
  },
  {
   "cell_type": "markdown",
   "id": "38d6a260-022e-423e-a0a0-e813a396e3f2",
   "metadata": {},
   "source": [
    "## Combine with updated commits"
   ]
  },
  {
   "cell_type": "code",
   "execution_count": 14,
   "id": "fc549c6b-dc35-45ba-af0c-7827a91623b7",
   "metadata": {},
   "outputs": [],
   "source": [
    "previous_commits_file = open(REMAPPED_RAW_COMMIT)\n",
    "previous_commits = json.load(previous_commits_file)\n",
    "\n",
    "new_commits_file = open(NEW_COMMITS)\n",
    "new_commits = json.load(new_commits_file)\n",
    "\n",
    "for commit in new_commits:\n",
    "    hash_ = commit[\"url\"].split(\"/\")[6]\n",
    "    previous_commits[hash_] = commit[\"codes\"]\n",
    "\n",
    "with open(FULL_COMMIT_LABELS, \"w\") as outfile:\n",
    "        json.dump(previous_commits, outfile)"
   ]
  },
  {
   "cell_type": "code",
   "execution_count": null,
   "id": "37ea6fe4-8e80-4f8f-ae24-b5eb5ac16e33",
   "metadata": {},
   "outputs": [],
   "source": []
  }
 ],
 "metadata": {
  "kernelspec": {
   "display_name": "Python 3 (ipykernel)",
   "language": "python",
   "name": "python3"
  },
  "language_info": {
   "codemirror_mode": {
    "name": "ipython",
    "version": 3
   },
   "file_extension": ".py",
   "mimetype": "text/x-python",
   "name": "python",
   "nbconvert_exporter": "python",
   "pygments_lexer": "ipython3",
   "version": "3.10.0"
  }
 },
 "nbformat": 4,
 "nbformat_minor": 5
}
