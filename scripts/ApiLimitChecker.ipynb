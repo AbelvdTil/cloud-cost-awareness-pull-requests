{
 "cells": [
  {
   "cell_type": "code",
   "execution_count": 3,
   "id": "4066cf05-24ae-4dc6-bdd6-a88d61857555",
   "metadata": {},
   "outputs": [
    {
     "name": "stdout",
     "output_type": "stream",
     "text": [
      "Authenticated as: AbelvdTil\n"
     ]
    }
   ],
   "source": [
    "from github import RateLimitExceededException, Github\n",
    "\n",
    "# Providing access token\n",
    "access_token = \"\"\n",
    "g = Github(login_or_token=access_token)\n",
    "\n",
    "# Confirm your login is successful\n",
    "user = g.get_user()\n",
    "print(f\"Authenticated as: {user.login}\")"
   ]
  },
  {
   "cell_type": "code",
   "execution_count": 13,
   "id": "2c93afb4-294a-4d7a-81fd-f67cd58ee12e",
   "metadata": {},
   "outputs": [
    {
     "name": "stdout",
     "output_type": "stream",
     "text": [
      "452 2024-05-21 19:53:56+00:00\n"
     ]
    }
   ],
   "source": [
    "core_limit = g.get_rate_limit().core\n",
    "print(core_limit.remaining, core_limit.reset)"
   ]
  },
  {
   "cell_type": "code",
   "execution_count": 9,
   "id": "9ef473c9-c3d3-49e7-b5ed-1995dedf1673",
   "metadata": {},
   "outputs": [
    {
     "name": "stdout",
     "output_type": "stream",
     "text": [
      "0 : 814 out of 814  =>  100 %\n",
      "1 : 814 out of 814  =>  100 %\n",
      "2 : 814 out of 814  =>  100 %\n",
      "3 : 814 out of 814  =>  100 %\n",
      "4 : 814 out of 814  =>  100 %\n",
      "5 : 814 out of 814  =>  100 %\n",
      "6 : 814 out of 814  =>  100 %\n",
      "7 : 814 out of 814  =>  100 %\n",
      "8 : 814 out of 814  =>  100 %\n",
      "9 : 814 out of 814  =>  100 %\n",
      "10 : 814 out of 814  =>  100 %\n",
      "11 : 814 out of 814  =>  100 %\n",
      "12 : 814 out of 814  =>  100 %\n",
      "13 : 814 out of 814  =>  100 %\n",
      "14 : 814 out of 814  =>  100 %\n",
      "15 : 814 out of 814  =>  100 %\n",
      "16 : 814 out of 814  =>  100 %\n",
      "17 : 814 out of 814  =>  100 %\n",
      "18 : 814 out of 814  =>  100 %\n",
      "19 : 814 out of 814  =>  100 %\n",
      "20 : 814 out of 814  =>  100 %\n",
      "21 : 814 out of 814  =>  100 %\n",
      "22 : 814 out of 814  =>  100 %\n",
      "23 : 814 out of 814  =>  100 %\n",
      "24 : 814 out of 814  =>  100 %\n",
      "25 : 814 out of 814  =>  100 %\n",
      "26 : 814 out of 814  =>  100 %\n",
      "27 : 814 out of 814  =>  100 %\n",
      "28 : 814 out of 814  =>  100 %\n",
      "29 : 814 out of 814  =>  100 %\n",
      "30 : 814 out of 814  =>  100 %\n",
      "31 : 814 out of 814  =>  100 %\n",
      "32 : 814 out of 814  =>  100 %\n",
      "33 : 814 out of 814  =>  100 %\n",
      "34 : 814 out of 814  =>  100 %\n",
      "35 : 814 out of 814  =>  100 %\n",
      "36 : 814 out of 814  =>  100 %\n",
      "37 : 814 out of 814  =>  100 %\n",
      "38 : 814 out of 814  =>  100 %\n",
      "39 : 814 out of 814  =>  100 %\n",
      "40 : 814 out of 814  =>  100 %\n",
      "41 : 814 out of 814  =>  100 %\n",
      "42 : 814 out of 814  =>  100 %\n",
      "43 : 814 out of 814  =>  100 %\n",
      "44 : 814 out of 814  =>  100 %\n",
      "45 : 814 out of 814  =>  100 %\n",
      "46 : 814 out of 814  =>  100 %\n",
      "47 : 814 out of 814  =>  100 %\n",
      "48 : 814 out of 814  =>  100 %\n",
      "49 : 814 out of 814  =>  100 %\n",
      "50 : 814 out of 814  =>  100 %\n",
      "51 : 814 out of 814  =>  100 %\n",
      "52 : 814 out of 814  =>  100 %\n",
      "53 : 814 out of 814  =>  100 %\n",
      "54 : 814 out of 814  =>  100 %\n",
      "55 : 814 out of 814  =>  100 %\n",
      "56 : 814 out of 814  =>  100 %\n",
      "57 : 814 out of 814  =>  100 %\n",
      "58 : 814 out of 814  =>  100 %\n",
      "59 : 814 out of 814  =>  100 %\n"
     ]
    }
   ],
   "source": [
    "import json\n",
    "import os\n",
    "import math\n",
    "import time\n",
    "\n",
    "for i in range(60):\n",
    "    \n",
    "    STEP9_TF_PR_DATASET = os.path.join(\"data\", \"pullrequest-scraping\", \"step9-tf-pr-dataset.json\")\n",
    "    \n",
    "    data_file = open(STEP9_TF_PR_DATASET)\n",
    "    data = json.load(data_file)\n",
    "    \n",
    "    count = 0\n",
    "    for pr in data:\n",
    "        if len(pr[\"codes\"]) > 0:\n",
    "            count += 1\n",
    "        \n",
    "    \n",
    "    \n",
    "    print(i, \":\", count, \"out of\", len(data), \" => \", math.floor(count / len(data) * 100), \"%\" )\n",
    "    time.sleep(60)"
   ]
  },
  {
   "cell_type": "code",
   "execution_count": 10,
   "id": "2f91f566-6b1b-4018-9eac-be8a213e3268",
   "metadata": {},
   "outputs": [
    {
     "name": "stdout",
     "output_type": "stream",
     "text": [
      "-----------------------------\n",
      "304 24778\n"
     ]
    }
   ],
   "source": [
    "import json\n",
    "import os\n",
    "\n",
    "MISSING = os.path.join(\"data\", \"pullrequest-scraping\", \"missing-comments.json\")\n",
    "data_file = open(MISSING)\n",
    "data = json.load(data_file)\n",
    "\n",
    "count = 0\n",
    "totalCount = 0\n",
    "keywords =  [\"cheap\", \"expens\", \"cost\", \"efficient\", \"bill\", \"pay\"]\n",
    "for repo in data:\n",
    "    for pr in repo[\"pull_requests\"]:\n",
    "        for comment in pr[\"comments\"]:\n",
    "            totalCount += 1\n",
    "            if (any(comment is not None and key in comment.lower() for key in keywords)):\n",
    "                count += 1\n",
    "print(\"-----------------------------\")\n",
    "print(count, totalCount)"
   ]
  },
  {
   "cell_type": "code",
   "execution_count": 10,
   "id": "b1c38568-b80e-48fd-a712-5bd510712f5e",
   "metadata": {},
   "outputs": [],
   "source": [
    "import json\n",
    "import os\n",
    "\n",
    "STEP9_TF_PR_DATASET = os.path.join(\"data\", \"pullrequest-scraping\", \"step9-tf-pr-dataset.json\")\n",
    "    \n",
    "data_file = open(STEP9_TF_PR_DATASET)\n",
    "data = json.load(data_file)\n",
    "\n",
    "output = []\n",
    "for pr in data:\n",
    "    if pr[\"codes\"] != [\"unrelated\"]:\n",
    "        output.append(pr)\n",
    "\n",
    "with open( os.path.join(\"data\", \"pullrequest-scraping\", \"intermediate.json\") , \"w\") as outfile:\n",
    "    json.dump(output, outfile)"
   ]
  },
  {
   "cell_type": "code",
   "execution_count": null,
   "id": "998ee7dc-e8c4-409f-b591-200d86f8b558",
   "metadata": {},
   "outputs": [],
   "source": []
  }
 ],
 "metadata": {
  "kernelspec": {
   "display_name": "Python 3 (ipykernel)",
   "language": "python",
   "name": "python3"
  },
  "language_info": {
   "codemirror_mode": {
    "name": "ipython",
    "version": 3
   },
   "file_extension": ".py",
   "mimetype": "text/x-python",
   "name": "python",
   "nbconvert_exporter": "python",
   "pygments_lexer": "ipython3",
   "version": "3.10.0"
  }
 },
 "nbformat": 4,
 "nbformat_minor": 5
}
