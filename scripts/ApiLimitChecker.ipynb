{
 "cells": [
  {
   "cell_type": "code",
   "execution_count": null,
   "id": "4066cf05-24ae-4dc6-bdd6-a88d61857555",
   "metadata": {},
   "outputs": [],
   "source": [
    "from github import RateLimitExceededException, Github\n",
    "\n",
    "# Providing access token\n",
    "access_token = \"\"\n",
    "g = Github(login_or_token=access_token)\n",
    "\n",
    "# Confirm your login is successful\n",
    "user = g.get_user()\n",
    "print(f\"Authenticated as: {user.login}\")"
   ]
  },
  {
   "cell_type": "code",
   "execution_count": 26,
   "id": "2c93afb4-294a-4d7a-81fd-f67cd58ee12e",
   "metadata": {},
   "outputs": [
    {
     "name": "stdout",
     "output_type": "stream",
     "text": [
      "5000 2024-05-14 15:52:26+00:00\n"
     ]
    }
   ],
   "source": [
    "core_limit = g.get_rate_limit().core\n",
    "print(core_limit.remaining, core_limit.reset)"
   ]
  },
  {
   "cell_type": "code",
   "execution_count": 24,
   "id": "9ef473c9-c3d3-49e7-b5ed-1995dedf1673",
   "metadata": {},
   "outputs": [
    {
     "name": "stdout",
     "output_type": "stream",
     "text": [
      "0 : 521 out of 760  =>  68 %\n",
      "1 : 524 out of 760  =>  68 %\n",
      "2 : 536 out of 760  =>  70 %\n",
      "3 : 539 out of 760  =>  70 %\n",
      "4 : 544 out of 760  =>  71 %\n",
      "5 : 548 out of 760  =>  72 %\n",
      "6 : 552 out of 760  =>  72 %\n",
      "7 : 558 out of 760  =>  73 %\n",
      "8 : 564 out of 760  =>  74 %\n",
      "9 : 577 out of 760  =>  75 %\n",
      "10 : 578 out of 760  =>  76 %\n",
      "11 : 579 out of 760  =>  76 %\n",
      "12 : 581 out of 760  =>  76 %\n",
      "13 : 583 out of 760  =>  76 %\n",
      "14 : 584 out of 760  =>  76 %\n",
      "15 : 585 out of 760  =>  76 %\n",
      "16 : 587 out of 760  =>  77 %\n",
      "17 : 588 out of 760  =>  77 %\n",
      "18 : 588 out of 760  =>  77 %\n",
      "19 : 588 out of 760  =>  77 %\n",
      "20 : 589 out of 760  =>  77 %\n",
      "21 : 593 out of 760  =>  78 %\n",
      "22 : 597 out of 760  =>  78 %\n",
      "23 : 599 out of 760  =>  78 %\n",
      "24 : 601 out of 760  =>  79 %\n",
      "25 : 605 out of 760  =>  79 %\n",
      "26 : 607 out of 760  =>  79 %\n",
      "27 : 607 out of 760  =>  79 %\n",
      "28 : 607 out of 760  =>  79 %\n",
      "29 : 607 out of 760  =>  79 %\n",
      "30 : 607 out of 760  =>  79 %\n",
      "31 : 607 out of 760  =>  79 %\n",
      "32 : 607 out of 760  =>  79 %\n",
      "33 : 607 out of 760  =>  79 %\n",
      "34 : 607 out of 760  =>  79 %\n",
      "35 : 607 out of 760  =>  79 %\n",
      "36 : 607 out of 760  =>  79 %\n",
      "37 : 607 out of 760  =>  79 %\n",
      "38 : 607 out of 760  =>  79 %\n",
      "39 : 607 out of 760  =>  79 %\n",
      "40 : 607 out of 760  =>  79 %\n",
      "41 : 607 out of 760  =>  79 %\n",
      "42 : 607 out of 760  =>  79 %\n",
      "43 : 607 out of 760  =>  79 %\n",
      "44 : 607 out of 760  =>  79 %\n",
      "45 : 607 out of 760  =>  79 %\n",
      "46 : 607 out of 760  =>  79 %\n"
     ]
    },
    {
     "ename": "KeyboardInterrupt",
     "evalue": "",
     "output_type": "error",
     "traceback": [
      "\u001b[0;31m---------------------------------------------------------------------------\u001b[0m",
      "\u001b[0;31mKeyboardInterrupt\u001b[0m                         Traceback (most recent call last)",
      "Cell \u001b[0;32mIn[24], line 21\u001b[0m\n\u001b[1;32m     16\u001b[0m         count \u001b[38;5;241m+\u001b[39m\u001b[38;5;241m=\u001b[39m \u001b[38;5;241m1\u001b[39m\n\u001b[1;32m     20\u001b[0m \u001b[38;5;28mprint\u001b[39m(i, \u001b[38;5;124m\"\u001b[39m\u001b[38;5;124m:\u001b[39m\u001b[38;5;124m\"\u001b[39m, count, \u001b[38;5;124m\"\u001b[39m\u001b[38;5;124mout of\u001b[39m\u001b[38;5;124m\"\u001b[39m, \u001b[38;5;28mlen\u001b[39m(data), \u001b[38;5;124m\"\u001b[39m\u001b[38;5;124m => \u001b[39m\u001b[38;5;124m\"\u001b[39m, math\u001b[38;5;241m.\u001b[39mfloor(count \u001b[38;5;241m/\u001b[39m \u001b[38;5;28mlen\u001b[39m(data) \u001b[38;5;241m*\u001b[39m \u001b[38;5;241m100\u001b[39m), \u001b[38;5;124m\"\u001b[39m\u001b[38;5;124m%\u001b[39m\u001b[38;5;124m\"\u001b[39m )\n\u001b[0;32m---> 21\u001b[0m \u001b[43mtime\u001b[49m\u001b[38;5;241;43m.\u001b[39;49m\u001b[43msleep\u001b[49m\u001b[43m(\u001b[49m\u001b[38;5;241;43m60\u001b[39;49m\u001b[43m)\u001b[49m\n",
      "\u001b[0;31mKeyboardInterrupt\u001b[0m: "
     ]
    }
   ],
   "source": [
    "import json\n",
    "import os\n",
    "import math\n",
    "import time\n",
    "\n",
    "for i in range(60):\n",
    "    \n",
    "    STEP9_TF_PR_DATASET = os.path.join(\"data\", \"pullrequest-scraping\", \"step9-tf-pr-dataset.json\")\n",
    "    \n",
    "    data_file = open(STEP9_TF_PR_DATASET)\n",
    "    data = json.load(data_file)\n",
    "    \n",
    "    count = 0\n",
    "    for pr in data:\n",
    "        if len(pr[\"codes\"]) > 0:\n",
    "            count += 1\n",
    "        \n",
    "    \n",
    "    \n",
    "    print(i, \":\", count, \"out of\", len(data), \" => \", math.floor(count / len(data) * 100), \"%\" )\n",
    "    time.sleep(60)"
   ]
  },
  {
   "cell_type": "code",
   "execution_count": null,
   "id": "2f91f566-6b1b-4018-9eac-be8a213e3268",
   "metadata": {},
   "outputs": [],
   "source": [
    "0"
   ]
  },
  {
   "cell_type": "code",
   "execution_count": null,
   "id": "b1c38568-b80e-48fd-a712-5bd510712f5e",
   "metadata": {},
   "outputs": [],
   "source": []
  }
 ],
 "metadata": {
  "kernelspec": {
   "display_name": "Python 3 (ipykernel)",
   "language": "python",
   "name": "python3"
  },
  "language_info": {
   "codemirror_mode": {
    "name": "ipython",
    "version": 3
   },
   "file_extension": ".py",
   "mimetype": "text/x-python",
   "name": "python",
   "nbconvert_exporter": "python",
   "pygments_lexer": "ipython3",
   "version": "3.10.0"
  }
 },
 "nbformat": 4,
 "nbformat_minor": 5
}
